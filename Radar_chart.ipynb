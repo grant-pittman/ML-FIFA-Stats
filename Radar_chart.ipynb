{
 "metadata": {
  "language_info": {
   "codemirror_mode": {
    "name": "ipython",
    "version": 3
   },
   "file_extension": ".py",
   "mimetype": "text/x-python",
   "name": "python",
   "nbconvert_exporter": "python",
   "pygments_lexer": "ipython3",
   "version": "3.7.7-final"
  },
  "orig_nbformat": 2,
  "kernelspec": {
   "name": "python37464bitbaseconda68e905bc638043beabf2e502caa344b2",
   "display_name": "Python 3.7.4 64-bit ('base': conda)"
  }
 },
 "nbformat": 4,
 "nbformat_minor": 2,
 "cells": [
  {
   "cell_type": "code",
   "execution_count": 13,
   "metadata": {},
   "outputs": [],
   "source": [
    "import pandas as pd \n",
    "import matplotlib.pyplot as plt \n",
    "from math import pi\n",
    "import plotly.graph_objects as go"
   ]
  },
  {
   "cell_type": "code",
   "execution_count": 2,
   "metadata": {},
   "outputs": [
    {
     "output_type": "execute_result",
     "data": {
      "text/plain": [
       "   Unnamed: 0  No      ID               Name  Age Nationality  Overall  \\\n",
       "0           0   0  158023           L. Messi   31   Argentina       94   \n",
       "1           1   1   20801  Cristiano Ronaldo   33    Portugal       94   \n",
       "2           2   2  190871          Neymar Jr   26      Brazil       92   \n",
       "3           3   3  193080             De Gea   27       Spain       91   \n",
       "4           4   4  192985       K. De Bruyne   27     Belgium       91   \n",
       "\n",
       "   Potential                 Club  Value  ... Marking StandingTackle  \\\n",
       "0         94         FC Barcelona  110.5  ...      33             28   \n",
       "1         94             Juventus   77.0  ...      28             31   \n",
       "2         93  Paris Saint-Germain  118.5  ...      27             24   \n",
       "3         93    Manchester United   72.0  ...      15             21   \n",
       "4         92      Manchester City  102.0  ...      68             58   \n",
       "\n",
       "   SlidingTackle  GKDiving  GKHandling GKKicking GKPositioning  GKReflexes  \\\n",
       "0             26         6          11        15            14           8   \n",
       "1             23         7          11        15            14          11   \n",
       "2             33         9           9        15            15          11   \n",
       "3             13        90          85        87            88          94   \n",
       "4             51        15          13         5            10          13   \n",
       "\n",
       "  Feet Inches  \n",
       "0    5      7  \n",
       "1    6      2  \n",
       "2    5      9  \n",
       "3    6      4  \n",
       "4    5     11  \n",
       "\n",
       "[5 rows x 58 columns]"
      ],
      "text/html": "<div>\n<style scoped>\n    .dataframe tbody tr th:only-of-type {\n        vertical-align: middle;\n    }\n\n    .dataframe tbody tr th {\n        vertical-align: top;\n    }\n\n    .dataframe thead th {\n        text-align: right;\n    }\n</style>\n<table border=\"1\" class=\"dataframe\">\n  <thead>\n    <tr style=\"text-align: right;\">\n      <th></th>\n      <th>Unnamed: 0</th>\n      <th>No</th>\n      <th>ID</th>\n      <th>Name</th>\n      <th>Age</th>\n      <th>Nationality</th>\n      <th>Overall</th>\n      <th>Potential</th>\n      <th>Club</th>\n      <th>Value</th>\n      <th>...</th>\n      <th>Marking</th>\n      <th>StandingTackle</th>\n      <th>SlidingTackle</th>\n      <th>GKDiving</th>\n      <th>GKHandling</th>\n      <th>GKKicking</th>\n      <th>GKPositioning</th>\n      <th>GKReflexes</th>\n      <th>Feet</th>\n      <th>Inches</th>\n    </tr>\n  </thead>\n  <tbody>\n    <tr>\n      <th>0</th>\n      <td>0</td>\n      <td>0</td>\n      <td>158023</td>\n      <td>L. Messi</td>\n      <td>31</td>\n      <td>Argentina</td>\n      <td>94</td>\n      <td>94</td>\n      <td>FC Barcelona</td>\n      <td>110.5</td>\n      <td>...</td>\n      <td>33</td>\n      <td>28</td>\n      <td>26</td>\n      <td>6</td>\n      <td>11</td>\n      <td>15</td>\n      <td>14</td>\n      <td>8</td>\n      <td>5</td>\n      <td>7</td>\n    </tr>\n    <tr>\n      <th>1</th>\n      <td>1</td>\n      <td>1</td>\n      <td>20801</td>\n      <td>Cristiano Ronaldo</td>\n      <td>33</td>\n      <td>Portugal</td>\n      <td>94</td>\n      <td>94</td>\n      <td>Juventus</td>\n      <td>77.0</td>\n      <td>...</td>\n      <td>28</td>\n      <td>31</td>\n      <td>23</td>\n      <td>7</td>\n      <td>11</td>\n      <td>15</td>\n      <td>14</td>\n      <td>11</td>\n      <td>6</td>\n      <td>2</td>\n    </tr>\n    <tr>\n      <th>2</th>\n      <td>2</td>\n      <td>2</td>\n      <td>190871</td>\n      <td>Neymar Jr</td>\n      <td>26</td>\n      <td>Brazil</td>\n      <td>92</td>\n      <td>93</td>\n      <td>Paris Saint-Germain</td>\n      <td>118.5</td>\n      <td>...</td>\n      <td>27</td>\n      <td>24</td>\n      <td>33</td>\n      <td>9</td>\n      <td>9</td>\n      <td>15</td>\n      <td>15</td>\n      <td>11</td>\n      <td>5</td>\n      <td>9</td>\n    </tr>\n    <tr>\n      <th>3</th>\n      <td>3</td>\n      <td>3</td>\n      <td>193080</td>\n      <td>De Gea</td>\n      <td>27</td>\n      <td>Spain</td>\n      <td>91</td>\n      <td>93</td>\n      <td>Manchester United</td>\n      <td>72.0</td>\n      <td>...</td>\n      <td>15</td>\n      <td>21</td>\n      <td>13</td>\n      <td>90</td>\n      <td>85</td>\n      <td>87</td>\n      <td>88</td>\n      <td>94</td>\n      <td>6</td>\n      <td>4</td>\n    </tr>\n    <tr>\n      <th>4</th>\n      <td>4</td>\n      <td>4</td>\n      <td>192985</td>\n      <td>K. De Bruyne</td>\n      <td>27</td>\n      <td>Belgium</td>\n      <td>91</td>\n      <td>92</td>\n      <td>Manchester City</td>\n      <td>102.0</td>\n      <td>...</td>\n      <td>68</td>\n      <td>58</td>\n      <td>51</td>\n      <td>15</td>\n      <td>13</td>\n      <td>5</td>\n      <td>10</td>\n      <td>13</td>\n      <td>5</td>\n      <td>11</td>\n    </tr>\n  </tbody>\n</table>\n<p>5 rows × 58 columns</p>\n</div>"
     },
     "metadata": {},
     "execution_count": 2
    }
   ],
   "source": [
    "df = pd.read_csv('cleaned_data.csv')\n",
    "df.head()"
   ]
  },
  {
   "cell_type": "code",
   "execution_count": 3,
   "metadata": {},
   "outputs": [],
   "source": [
    "most_important_features = ['Age', 'Potential', 'Finishing', 'Reactions', 'Dribbling', 'BallControl', 'LongShots', 'Volleys', 'Vision']"
   ]
  },
  {
   "cell_type": "code",
   "execution_count": 4,
   "metadata": {},
   "outputs": [],
   "source": [
    "df_subset = df.loc[:,['Name']+most_important_features]"
   ]
  },
  {
   "cell_type": "code",
   "execution_count": 21,
   "metadata": {},
   "outputs": [
    {
     "output_type": "execute_result",
     "data": {
      "text/plain": [
       "                Name  Age  Potential  Finishing  Reactions  Dribbling  \\\n",
       "0           L. Messi   31         94         95         95         97   \n",
       "1  Cristiano Ronaldo   33         94         94         96         88   \n",
       "2          Neymar Jr   26         93         87         94         96   \n",
       "3             De Gea   27         93         13         90         18   \n",
       "4       K. De Bruyne   27         92         82         91         86   \n",
       "5          E. Hazard   27         91         84         90         95   \n",
       "6          L. Modri?   32         91         72         90         90   \n",
       "7          L. Suárez   31         91         93         92         87   \n",
       "8       Sergio Ramos   32         91         60         85         63   \n",
       "9           J. Oblak   25         93         11         86         12   \n",
       "\n",
       "   BallControl  LongShots  Volleys  Vision  \n",
       "0           96         94       86      94  \n",
       "1           94         93       87      82  \n",
       "2           95         82       84      87  \n",
       "3           42         12       13      68  \n",
       "4           91         91       82      94  \n",
       "5           94         80       80      89  \n",
       "6           93         82       76      92  \n",
       "7           90         85       88      84  \n",
       "8           84         59       66      63  \n",
       "9           16         12       13      70  "
      ],
      "text/html": "<div>\n<style scoped>\n    .dataframe tbody tr th:only-of-type {\n        vertical-align: middle;\n    }\n\n    .dataframe tbody tr th {\n        vertical-align: top;\n    }\n\n    .dataframe thead th {\n        text-align: right;\n    }\n</style>\n<table border=\"1\" class=\"dataframe\">\n  <thead>\n    <tr style=\"text-align: right;\">\n      <th></th>\n      <th>Name</th>\n      <th>Age</th>\n      <th>Potential</th>\n      <th>Finishing</th>\n      <th>Reactions</th>\n      <th>Dribbling</th>\n      <th>BallControl</th>\n      <th>LongShots</th>\n      <th>Volleys</th>\n      <th>Vision</th>\n    </tr>\n  </thead>\n  <tbody>\n    <tr>\n      <th>0</th>\n      <td>L. Messi</td>\n      <td>31</td>\n      <td>94</td>\n      <td>95</td>\n      <td>95</td>\n      <td>97</td>\n      <td>96</td>\n      <td>94</td>\n      <td>86</td>\n      <td>94</td>\n    </tr>\n    <tr>\n      <th>1</th>\n      <td>Cristiano Ronaldo</td>\n      <td>33</td>\n      <td>94</td>\n      <td>94</td>\n      <td>96</td>\n      <td>88</td>\n      <td>94</td>\n      <td>93</td>\n      <td>87</td>\n      <td>82</td>\n    </tr>\n    <tr>\n      <th>2</th>\n      <td>Neymar Jr</td>\n      <td>26</td>\n      <td>93</td>\n      <td>87</td>\n      <td>94</td>\n      <td>96</td>\n      <td>95</td>\n      <td>82</td>\n      <td>84</td>\n      <td>87</td>\n    </tr>\n    <tr>\n      <th>3</th>\n      <td>De Gea</td>\n      <td>27</td>\n      <td>93</td>\n      <td>13</td>\n      <td>90</td>\n      <td>18</td>\n      <td>42</td>\n      <td>12</td>\n      <td>13</td>\n      <td>68</td>\n    </tr>\n    <tr>\n      <th>4</th>\n      <td>K. De Bruyne</td>\n      <td>27</td>\n      <td>92</td>\n      <td>82</td>\n      <td>91</td>\n      <td>86</td>\n      <td>91</td>\n      <td>91</td>\n      <td>82</td>\n      <td>94</td>\n    </tr>\n    <tr>\n      <th>5</th>\n      <td>E. Hazard</td>\n      <td>27</td>\n      <td>91</td>\n      <td>84</td>\n      <td>90</td>\n      <td>95</td>\n      <td>94</td>\n      <td>80</td>\n      <td>80</td>\n      <td>89</td>\n    </tr>\n    <tr>\n      <th>6</th>\n      <td>L. Modri?</td>\n      <td>32</td>\n      <td>91</td>\n      <td>72</td>\n      <td>90</td>\n      <td>90</td>\n      <td>93</td>\n      <td>82</td>\n      <td>76</td>\n      <td>92</td>\n    </tr>\n    <tr>\n      <th>7</th>\n      <td>L. Suárez</td>\n      <td>31</td>\n      <td>91</td>\n      <td>93</td>\n      <td>92</td>\n      <td>87</td>\n      <td>90</td>\n      <td>85</td>\n      <td>88</td>\n      <td>84</td>\n    </tr>\n    <tr>\n      <th>8</th>\n      <td>Sergio Ramos</td>\n      <td>32</td>\n      <td>91</td>\n      <td>60</td>\n      <td>85</td>\n      <td>63</td>\n      <td>84</td>\n      <td>59</td>\n      <td>66</td>\n      <td>63</td>\n    </tr>\n    <tr>\n      <th>9</th>\n      <td>J. Oblak</td>\n      <td>25</td>\n      <td>93</td>\n      <td>11</td>\n      <td>86</td>\n      <td>12</td>\n      <td>16</td>\n      <td>12</td>\n      <td>13</td>\n      <td>70</td>\n    </tr>\n  </tbody>\n</table>\n</div>"
     },
     "metadata": {},
     "execution_count": 21
    }
   ],
   "source": [
    "df_subset.head(10)"
   ]
  },
  {
   "cell_type": "code",
   "execution_count": 6,
   "metadata": {},
   "outputs": [
    {
     "output_type": "execute_result",
     "data": {
      "text/plain": [
       "['Potential',\n",
       " 'Finishing',\n",
       " 'Reactions',\n",
       " 'Dribbling',\n",
       " 'BallControl',\n",
       " 'LongShots',\n",
       " 'Volleys',\n",
       " 'Vision']"
      ]
     },
     "metadata": {},
     "execution_count": 6
    }
   ],
   "source": [
    "categories = list(df_subset)[2:]\n",
    "categories"
   ]
  },
  {
   "cell_type": "code",
   "execution_count": 7,
   "metadata": {},
   "outputs": [],
   "source": [
    "N = len(categories)"
   ]
  },
  {
   "cell_type": "code",
   "execution_count": 8,
   "metadata": {},
   "outputs": [],
   "source": [
    "chosen_name = 'De Gea'\n",
    "values = df_subset.loc[df_subset['Name'] == chosen_name,:].drop(['Name', 'Age'], axis=1).values.flatten().tolist()"
   ]
  },
  {
   "cell_type": "code",
   "execution_count": 9,
   "metadata": {},
   "outputs": [],
   "source": [
    "values += values[:1]"
   ]
  },
  {
   "cell_type": "code",
   "execution_count": 10,
   "metadata": {},
   "outputs": [
    {
     "output_type": "execute_result",
     "data": {
      "text/plain": [
       "[93, 13, 90, 18, 42, 12, 13, 68, 93]"
      ]
     },
     "metadata": {},
     "execution_count": 10
    }
   ],
   "source": [
    "values"
   ]
  },
  {
   "cell_type": "code",
   "execution_count": 11,
   "metadata": {},
   "outputs": [],
   "source": [
    "angles = [n / float(N) * 2 * pi for n in range(N)]\n",
    "angles += angles[:1]"
   ]
  },
  {
   "source": [
    "# Matplotlib"
   ],
   "cell_type": "markdown",
   "metadata": {}
  },
  {
   "cell_type": "code",
   "execution_count": 12,
   "metadata": {},
   "outputs": [
    {
     "output_type": "display_data",
     "data": {
      "text/plain": "<Figure size 864x576 with 1 Axes>",
      "image/svg+xml": "<?xml version=\"1.0\" encoding=\"utf-8\" standalone=\"no\"?>\r\n<!DOCTYPE svg PUBLIC \"-//W3C//DTD SVG 1.1//EN\"\r\n  \"http://www.w3.org/Graphics/SVG/1.1/DTD/svg11.dtd\">\r\n<!-- Created with matplotlib (https://matplotlib.org/) -->\r\n<svg height=\"485.0225pt\" version=\"1.1\" viewBox=\"0 0 516.9075 485.0225\" width=\"516.9075pt\" xmlns=\"http://www.w3.org/2000/svg\" xmlns:xlink=\"http://www.w3.org/1999/xlink\">\r\n <defs>\r\n  <style type=\"text/css\">\r\n*{stroke-linecap:butt;stroke-linejoin:round;}\r\n  </style>\r\n </defs>\r\n <g id=\"figure_1\">\r\n  <g id=\"patch_1\">\r\n   <path d=\"M 0 485.0225 \r\nL 516.9075 485.0225 \r\nL 516.9075 0 \r\nL 0 0 \r\nz\r\n\" style=\"fill:none;\"/>\r\n  </g>\r\n  <g id=\"axes_1\">\r\n   <g id=\"patch_2\">\r\n    <path d=\"M 478.04375 242.51125 \r\nC 478.04375 213.957291 472.419243 185.680983 461.492116 159.300564 \r\nC 450.564988 132.920146 434.547747 108.94865 414.357049 88.757951 \r\nC 394.16635 68.567253 370.194854 52.550012 343.814436 41.622884 \r\nC 317.434017 30.695757 289.157709 25.07125 260.60375 25.07125 \r\nC 232.049791 25.07125 203.773483 30.695757 177.393064 41.622884 \r\nC 151.012646 52.550012 127.04115 68.567253 106.850451 88.757951 \r\nC 86.659753 108.94865 70.642512 132.920146 59.715384 159.300564 \r\nC 48.788257 185.680983 43.16375 213.957291 43.16375 242.51125 \r\nC 43.16375 271.065209 48.788257 299.341517 59.715384 325.721936 \r\nC 70.642512 352.102354 86.659753 376.07385 106.850451 396.264549 \r\nC 127.04115 416.455247 151.012646 432.472488 177.393064 443.399616 \r\nC 203.773483 454.326743 232.049791 459.95125 260.60375 459.95125 \r\nC 289.157709 459.95125 317.434017 454.326743 343.814436 443.399616 \r\nC 370.194854 432.472488 394.16635 416.455247 414.357049 396.264549 \r\nC 434.547747 376.07385 450.564988 352.102354 461.492116 325.721936 \r\nC 472.419243 299.341517 478.04375 271.065209 478.04375 242.51125 \r\nM 260.60375 242.51125 \r\nC 260.60375 242.51125 260.60375 242.51125 260.60375 242.51125 \r\nC 260.60375 242.51125 260.60375 242.51125 260.60375 242.51125 \r\nC 260.60375 242.51125 260.60375 242.51125 260.60375 242.51125 \r\nC 260.60375 242.51125 260.60375 242.51125 260.60375 242.51125 \r\nC 260.60375 242.51125 260.60375 242.51125 260.60375 242.51125 \r\nC 260.60375 242.51125 260.60375 242.51125 260.60375 242.51125 \r\nC 260.60375 242.51125 260.60375 242.51125 260.60375 242.51125 \r\nC 260.60375 242.51125 260.60375 242.51125 260.60375 242.51125 \r\nC 260.60375 242.51125 260.60375 242.51125 260.60375 242.51125 \r\nC 260.60375 242.51125 260.60375 242.51125 260.60375 242.51125 \r\nC 260.60375 242.51125 260.60375 242.51125 260.60375 242.51125 \r\nC 260.60375 242.51125 260.60375 242.51125 260.60375 242.51125 \r\nC 260.60375 242.51125 260.60375 242.51125 260.60375 242.51125 \r\nC 260.60375 242.51125 260.60375 242.51125 260.60375 242.51125 \r\nC 260.60375 242.51125 260.60375 242.51125 260.60375 242.51125 \r\nC 260.60375 242.51125 260.60375 242.51125 260.60375 242.51125 \r\nM 478.04375 242.51125 \r\nz\r\n\" style=\"fill:#ffffff;\"/>\r\n   </g>\r\n   <g id=\"patch_3\">\r\n    <path clip-path=\"url(#p8cb623f1f8)\" d=\"M 462.82295 242.51125 \r\nL 280.591679 222.523321 \r\nL 260.60375 46.81525 \r\nL 232.928156 214.835656 \r\nL 169.27895 242.51125 \r\nL 242.153354 260.961646 \r\nL 260.60375 270.77845 \r\nL 365.155993 347.063493 \r\nz\r\n\" style=\"fill:#0000ff;opacity:0.1;\"/>\r\n   </g>\r\n   <g id=\"matplotlib.axis_1\">\r\n    <g id=\"xtick_1\">\r\n     <g id=\"line2d_1\">\r\n      <path clip-path=\"url(#p8cb623f1f8)\" d=\"M 260.60375 242.51125 \r\nL 478.04375 242.51125 \r\n\" style=\"fill:none;stroke:#b0b0b0;stroke-linecap:square;stroke-width:0.8;\"/>\r\n     </g>\r\n     <g id=\"text_1\">\r\n      <!-- Potential -->\r\n      <defs>\r\n       <path d=\"M 19.671875 64.796875 \r\nL 19.671875 37.40625 \r\nL 32.078125 37.40625 \r\nQ 38.96875 37.40625 42.71875 40.96875 \r\nQ 46.484375 44.53125 46.484375 51.125 \r\nQ 46.484375 57.671875 42.71875 61.234375 \r\nQ 38.96875 64.796875 32.078125 64.796875 \r\nz\r\nM 9.8125 72.90625 \r\nL 32.078125 72.90625 \r\nQ 44.34375 72.90625 50.609375 67.359375 \r\nQ 56.890625 61.8125 56.890625 51.125 \r\nQ 56.890625 40.328125 50.609375 34.8125 \r\nQ 44.34375 29.296875 32.078125 29.296875 \r\nL 19.671875 29.296875 \r\nL 19.671875 0 \r\nL 9.8125 0 \r\nz\r\n\" id=\"DejaVuSans-80\"/>\r\n       <path d=\"M 30.609375 48.390625 \r\nQ 23.390625 48.390625 19.1875 42.75 \r\nQ 14.984375 37.109375 14.984375 27.296875 \r\nQ 14.984375 17.484375 19.15625 11.84375 \r\nQ 23.34375 6.203125 30.609375 6.203125 \r\nQ 37.796875 6.203125 41.984375 11.859375 \r\nQ 46.1875 17.53125 46.1875 27.296875 \r\nQ 46.1875 37.015625 41.984375 42.703125 \r\nQ 37.796875 48.390625 30.609375 48.390625 \r\nz\r\nM 30.609375 56 \r\nQ 42.328125 56 49.015625 48.375 \r\nQ 55.71875 40.765625 55.71875 27.296875 \r\nQ 55.71875 13.875 49.015625 6.21875 \r\nQ 42.328125 -1.421875 30.609375 -1.421875 \r\nQ 18.84375 -1.421875 12.171875 6.21875 \r\nQ 5.515625 13.875 5.515625 27.296875 \r\nQ 5.515625 40.765625 12.171875 48.375 \r\nQ 18.84375 56 30.609375 56 \r\nz\r\n\" id=\"DejaVuSans-111\"/>\r\n       <path d=\"M 18.3125 70.21875 \r\nL 18.3125 54.6875 \r\nL 36.8125 54.6875 \r\nL 36.8125 47.703125 \r\nL 18.3125 47.703125 \r\nL 18.3125 18.015625 \r\nQ 18.3125 11.328125 20.140625 9.421875 \r\nQ 21.96875 7.515625 27.59375 7.515625 \r\nL 36.8125 7.515625 \r\nL 36.8125 0 \r\nL 27.59375 0 \r\nQ 17.1875 0 13.234375 3.875 \r\nQ 9.28125 7.765625 9.28125 18.015625 \r\nL 9.28125 47.703125 \r\nL 2.6875 47.703125 \r\nL 2.6875 54.6875 \r\nL 9.28125 54.6875 \r\nL 9.28125 70.21875 \r\nz\r\n\" id=\"DejaVuSans-116\"/>\r\n       <path d=\"M 56.203125 29.59375 \r\nL 56.203125 25.203125 \r\nL 14.890625 25.203125 \r\nQ 15.484375 15.921875 20.484375 11.0625 \r\nQ 25.484375 6.203125 34.421875 6.203125 \r\nQ 39.59375 6.203125 44.453125 7.46875 \r\nQ 49.3125 8.734375 54.109375 11.28125 \r\nL 54.109375 2.78125 \r\nQ 49.265625 0.734375 44.1875 -0.34375 \r\nQ 39.109375 -1.421875 33.890625 -1.421875 \r\nQ 20.796875 -1.421875 13.15625 6.1875 \r\nQ 5.515625 13.8125 5.515625 26.8125 \r\nQ 5.515625 40.234375 12.765625 48.109375 \r\nQ 20.015625 56 32.328125 56 \r\nQ 43.359375 56 49.78125 48.890625 \r\nQ 56.203125 41.796875 56.203125 29.59375 \r\nz\r\nM 47.21875 32.234375 \r\nQ 47.125 39.59375 43.09375 43.984375 \r\nQ 39.0625 48.390625 32.421875 48.390625 \r\nQ 24.90625 48.390625 20.390625 44.140625 \r\nQ 15.875 39.890625 15.1875 32.171875 \r\nz\r\n\" id=\"DejaVuSans-101\"/>\r\n       <path d=\"M 54.890625 33.015625 \r\nL 54.890625 0 \r\nL 45.90625 0 \r\nL 45.90625 32.71875 \r\nQ 45.90625 40.484375 42.875 44.328125 \r\nQ 39.84375 48.1875 33.796875 48.1875 \r\nQ 26.515625 48.1875 22.3125 43.546875 \r\nQ 18.109375 38.921875 18.109375 30.90625 \r\nL 18.109375 0 \r\nL 9.078125 0 \r\nL 9.078125 54.6875 \r\nL 18.109375 54.6875 \r\nL 18.109375 46.1875 \r\nQ 21.34375 51.125 25.703125 53.5625 \r\nQ 30.078125 56 35.796875 56 \r\nQ 45.21875 56 50.046875 50.171875 \r\nQ 54.890625 44.34375 54.890625 33.015625 \r\nz\r\n\" id=\"DejaVuSans-110\"/>\r\n       <path d=\"M 9.421875 54.6875 \r\nL 18.40625 54.6875 \r\nL 18.40625 0 \r\nL 9.421875 0 \r\nz\r\nM 9.421875 75.984375 \r\nL 18.40625 75.984375 \r\nL 18.40625 64.59375 \r\nL 9.421875 64.59375 \r\nz\r\n\" id=\"DejaVuSans-105\"/>\r\n       <path d=\"M 34.28125 27.484375 \r\nQ 23.390625 27.484375 19.1875 25 \r\nQ 14.984375 22.515625 14.984375 16.5 \r\nQ 14.984375 11.71875 18.140625 8.90625 \r\nQ 21.296875 6.109375 26.703125 6.109375 \r\nQ 34.1875 6.109375 38.703125 11.40625 \r\nQ 43.21875 16.703125 43.21875 25.484375 \r\nL 43.21875 27.484375 \r\nz\r\nM 52.203125 31.203125 \r\nL 52.203125 0 \r\nL 43.21875 0 \r\nL 43.21875 8.296875 \r\nQ 40.140625 3.328125 35.546875 0.953125 \r\nQ 30.953125 -1.421875 24.3125 -1.421875 \r\nQ 15.921875 -1.421875 10.953125 3.296875 \r\nQ 6 8.015625 6 15.921875 \r\nQ 6 25.140625 12.171875 29.828125 \r\nQ 18.359375 34.515625 30.609375 34.515625 \r\nL 43.21875 34.515625 \r\nL 43.21875 35.40625 \r\nQ 43.21875 41.609375 39.140625 45 \r\nQ 35.0625 48.390625 27.6875 48.390625 \r\nQ 23 48.390625 18.546875 47.265625 \r\nQ 14.109375 46.140625 10.015625 43.890625 \r\nL 10.015625 52.203125 \r\nQ 14.9375 54.109375 19.578125 55.046875 \r\nQ 24.21875 56 28.609375 56 \r\nQ 40.484375 56 46.34375 49.84375 \r\nQ 52.203125 43.703125 52.203125 31.203125 \r\nz\r\n\" id=\"DejaVuSans-97\"/>\r\n       <path d=\"M 9.421875 75.984375 \r\nL 18.40625 75.984375 \r\nL 18.40625 0 \r\nL 9.421875 0 \r\nz\r\n\" id=\"DejaVuSans-108\"/>\r\n      </defs>\r\n      <g style=\"fill:#808080;\" transform=\"translate(474.38 244.71875)scale(0.08 -0.08)\">\r\n       <use xlink:href=\"#DejaVuSans-80\"/>\r\n       <use x=\"60.255859\" xlink:href=\"#DejaVuSans-111\"/>\r\n       <use x=\"121.4375\" xlink:href=\"#DejaVuSans-116\"/>\r\n       <use x=\"160.646484\" xlink:href=\"#DejaVuSans-101\"/>\r\n       <use x=\"222.169922\" xlink:href=\"#DejaVuSans-110\"/>\r\n       <use x=\"285.548828\" xlink:href=\"#DejaVuSans-116\"/>\r\n       <use x=\"324.757812\" xlink:href=\"#DejaVuSans-105\"/>\r\n       <use x=\"352.541016\" xlink:href=\"#DejaVuSans-97\"/>\r\n       <use x=\"413.820312\" xlink:href=\"#DejaVuSans-108\"/>\r\n      </g>\r\n     </g>\r\n    </g>\r\n    <g id=\"xtick_2\">\r\n     <g id=\"line2d_2\">\r\n      <path clip-path=\"url(#p8cb623f1f8)\" d=\"M 260.60375 242.51125 \r\nL 414.357049 88.757951 \r\n\" style=\"fill:none;stroke:#b0b0b0;stroke-linecap:square;stroke-width:0.8;\"/>\r\n     </g>\r\n     <g id=\"text_2\">\r\n      <!-- Finishing -->\r\n      <defs>\r\n       <path d=\"M 9.8125 72.90625 \r\nL 51.703125 72.90625 \r\nL 51.703125 64.59375 \r\nL 19.671875 64.59375 \r\nL 19.671875 43.109375 \r\nL 48.578125 43.109375 \r\nL 48.578125 34.8125 \r\nL 19.671875 34.8125 \r\nL 19.671875 0 \r\nL 9.8125 0 \r\nz\r\n\" id=\"DejaVuSans-70\"/>\r\n       <path d=\"M 44.28125 53.078125 \r\nL 44.28125 44.578125 \r\nQ 40.484375 46.53125 36.375 47.5 \r\nQ 32.28125 48.484375 27.875 48.484375 \r\nQ 21.1875 48.484375 17.84375 46.4375 \r\nQ 14.5 44.390625 14.5 40.28125 \r\nQ 14.5 37.15625 16.890625 35.375 \r\nQ 19.28125 33.59375 26.515625 31.984375 \r\nL 29.59375 31.296875 \r\nQ 39.15625 29.25 43.1875 25.515625 \r\nQ 47.21875 21.78125 47.21875 15.09375 \r\nQ 47.21875 7.46875 41.1875 3.015625 \r\nQ 35.15625 -1.421875 24.609375 -1.421875 \r\nQ 20.21875 -1.421875 15.453125 -0.5625 \r\nQ 10.6875 0.296875 5.421875 2 \r\nL 5.421875 11.28125 \r\nQ 10.40625 8.6875 15.234375 7.390625 \r\nQ 20.0625 6.109375 24.8125 6.109375 \r\nQ 31.15625 6.109375 34.5625 8.28125 \r\nQ 37.984375 10.453125 37.984375 14.40625 \r\nQ 37.984375 18.0625 35.515625 20.015625 \r\nQ 33.0625 21.96875 24.703125 23.78125 \r\nL 21.578125 24.515625 \r\nQ 13.234375 26.265625 9.515625 29.90625 \r\nQ 5.8125 33.546875 5.8125 39.890625 \r\nQ 5.8125 47.609375 11.28125 51.796875 \r\nQ 16.75 56 26.8125 56 \r\nQ 31.78125 56 36.171875 55.265625 \r\nQ 40.578125 54.546875 44.28125 53.078125 \r\nz\r\n\" id=\"DejaVuSans-115\"/>\r\n       <path d=\"M 54.890625 33.015625 \r\nL 54.890625 0 \r\nL 45.90625 0 \r\nL 45.90625 32.71875 \r\nQ 45.90625 40.484375 42.875 44.328125 \r\nQ 39.84375 48.1875 33.796875 48.1875 \r\nQ 26.515625 48.1875 22.3125 43.546875 \r\nQ 18.109375 38.921875 18.109375 30.90625 \r\nL 18.109375 0 \r\nL 9.078125 0 \r\nL 9.078125 75.984375 \r\nL 18.109375 75.984375 \r\nL 18.109375 46.1875 \r\nQ 21.34375 51.125 25.703125 53.5625 \r\nQ 30.078125 56 35.796875 56 \r\nQ 45.21875 56 50.046875 50.171875 \r\nQ 54.890625 44.34375 54.890625 33.015625 \r\nz\r\n\" id=\"DejaVuSans-104\"/>\r\n       <path d=\"M 45.40625 27.984375 \r\nQ 45.40625 37.75 41.375 43.109375 \r\nQ 37.359375 48.484375 30.078125 48.484375 \r\nQ 22.859375 48.484375 18.828125 43.109375 \r\nQ 14.796875 37.75 14.796875 27.984375 \r\nQ 14.796875 18.265625 18.828125 12.890625 \r\nQ 22.859375 7.515625 30.078125 7.515625 \r\nQ 37.359375 7.515625 41.375 12.890625 \r\nQ 45.40625 18.265625 45.40625 27.984375 \r\nz\r\nM 54.390625 6.78125 \r\nQ 54.390625 -7.171875 48.1875 -13.984375 \r\nQ 42 -20.796875 29.203125 -20.796875 \r\nQ 24.46875 -20.796875 20.265625 -20.09375 \r\nQ 16.0625 -19.390625 12.109375 -17.921875 \r\nL 12.109375 -9.1875 \r\nQ 16.0625 -11.328125 19.921875 -12.34375 \r\nQ 23.78125 -13.375 27.78125 -13.375 \r\nQ 36.625 -13.375 41.015625 -8.765625 \r\nQ 45.40625 -4.15625 45.40625 5.171875 \r\nL 45.40625 9.625 \r\nQ 42.625 4.78125 38.28125 2.390625 \r\nQ 33.9375 0 27.875 0 \r\nQ 17.828125 0 11.671875 7.65625 \r\nQ 5.515625 15.328125 5.515625 27.984375 \r\nQ 5.515625 40.671875 11.671875 48.328125 \r\nQ 17.828125 56 27.875 56 \r\nQ 33.9375 56 38.28125 53.609375 \r\nQ 42.625 51.21875 45.40625 46.390625 \r\nL 45.40625 54.6875 \r\nL 54.390625 54.6875 \r\nz\r\n\" id=\"DejaVuSans-103\"/>\r\n      </defs>\r\n      <g style=\"fill:#808080;\" transform=\"translate(406.398418 81.065957)scale(0.08 -0.08)\">\r\n       <use xlink:href=\"#DejaVuSans-70\"/>\r\n       <use x=\"57.410156\" xlink:href=\"#DejaVuSans-105\"/>\r\n       <use x=\"85.193359\" xlink:href=\"#DejaVuSans-110\"/>\r\n       <use x=\"148.572266\" xlink:href=\"#DejaVuSans-105\"/>\r\n       <use x=\"176.355469\" xlink:href=\"#DejaVuSans-115\"/>\r\n       <use x=\"228.455078\" xlink:href=\"#DejaVuSans-104\"/>\r\n       <use x=\"291.833984\" xlink:href=\"#DejaVuSans-105\"/>\r\n       <use x=\"319.617188\" xlink:href=\"#DejaVuSans-110\"/>\r\n       <use x=\"382.996094\" xlink:href=\"#DejaVuSans-103\"/>\r\n      </g>\r\n     </g>\r\n    </g>\r\n    <g id=\"xtick_3\">\r\n     <g id=\"line2d_3\">\r\n      <path clip-path=\"url(#p8cb623f1f8)\" d=\"M 260.60375 242.51125 \r\nL 260.60375 25.07125 \r\n\" style=\"fill:none;stroke:#b0b0b0;stroke-linecap:square;stroke-width:0.8;\"/>\r\n     </g>\r\n     <g id=\"text_3\">\r\n      <!-- Reactions -->\r\n      <defs>\r\n       <path d=\"M 44.390625 34.1875 \r\nQ 47.5625 33.109375 50.5625 29.59375 \r\nQ 53.5625 26.078125 56.59375 19.921875 \r\nL 66.609375 0 \r\nL 56 0 \r\nL 46.6875 18.703125 \r\nQ 43.0625 26.03125 39.671875 28.421875 \r\nQ 36.28125 30.8125 30.421875 30.8125 \r\nL 19.671875 30.8125 \r\nL 19.671875 0 \r\nL 9.8125 0 \r\nL 9.8125 72.90625 \r\nL 32.078125 72.90625 \r\nQ 44.578125 72.90625 50.734375 67.671875 \r\nQ 56.890625 62.453125 56.890625 51.90625 \r\nQ 56.890625 45.015625 53.6875 40.46875 \r\nQ 50.484375 35.9375 44.390625 34.1875 \r\nz\r\nM 19.671875 64.796875 \r\nL 19.671875 38.921875 \r\nL 32.078125 38.921875 \r\nQ 39.203125 38.921875 42.84375 42.21875 \r\nQ 46.484375 45.515625 46.484375 51.90625 \r\nQ 46.484375 58.296875 42.84375 61.546875 \r\nQ 39.203125 64.796875 32.078125 64.796875 \r\nz\r\n\" id=\"DejaVuSans-82\"/>\r\n       <path d=\"M 48.78125 52.59375 \r\nL 48.78125 44.1875 \r\nQ 44.96875 46.296875 41.140625 47.34375 \r\nQ 37.3125 48.390625 33.40625 48.390625 \r\nQ 24.65625 48.390625 19.8125 42.84375 \r\nQ 14.984375 37.3125 14.984375 27.296875 \r\nQ 14.984375 17.28125 19.8125 11.734375 \r\nQ 24.65625 6.203125 33.40625 6.203125 \r\nQ 37.3125 6.203125 41.140625 7.25 \r\nQ 44.96875 8.296875 48.78125 10.40625 \r\nL 48.78125 2.09375 \r\nQ 45.015625 0.34375 40.984375 -0.53125 \r\nQ 36.96875 -1.421875 32.421875 -1.421875 \r\nQ 20.0625 -1.421875 12.78125 6.34375 \r\nQ 5.515625 14.109375 5.515625 27.296875 \r\nQ 5.515625 40.671875 12.859375 48.328125 \r\nQ 20.21875 56 33.015625 56 \r\nQ 37.15625 56 41.109375 55.140625 \r\nQ 45.0625 54.296875 48.78125 52.59375 \r\nz\r\n\" id=\"DejaVuSans-99\"/>\r\n      </defs>\r\n      <g style=\"fill:#808080;\" transform=\"translate(240.969375 13.27875)scale(0.08 -0.08)\">\r\n       <use xlink:href=\"#DejaVuSans-82\"/>\r\n       <use x=\"69.419922\" xlink:href=\"#DejaVuSans-101\"/>\r\n       <use x=\"130.943359\" xlink:href=\"#DejaVuSans-97\"/>\r\n       <use x=\"192.222656\" xlink:href=\"#DejaVuSans-99\"/>\r\n       <use x=\"247.203125\" xlink:href=\"#DejaVuSans-116\"/>\r\n       <use x=\"286.412109\" xlink:href=\"#DejaVuSans-105\"/>\r\n       <use x=\"314.195312\" xlink:href=\"#DejaVuSans-111\"/>\r\n       <use x=\"375.376953\" xlink:href=\"#DejaVuSans-110\"/>\r\n       <use x=\"438.755859\" xlink:href=\"#DejaVuSans-115\"/>\r\n      </g>\r\n     </g>\r\n    </g>\r\n    <g id=\"xtick_4\">\r\n     <g id=\"line2d_4\">\r\n      <path clip-path=\"url(#p8cb623f1f8)\" d=\"M 260.60375 242.51125 \r\nL 106.850451 88.757951 \r\n\" style=\"fill:none;stroke:#b0b0b0;stroke-linecap:square;stroke-width:0.8;\"/>\r\n     </g>\r\n     <g id=\"text_4\">\r\n      <!-- Dribbling -->\r\n      <defs>\r\n       <path d=\"M 19.671875 64.796875 \r\nL 19.671875 8.109375 \r\nL 31.59375 8.109375 \r\nQ 46.6875 8.109375 53.6875 14.9375 \r\nQ 60.6875 21.78125 60.6875 36.53125 \r\nQ 60.6875 51.171875 53.6875 57.984375 \r\nQ 46.6875 64.796875 31.59375 64.796875 \r\nz\r\nM 9.8125 72.90625 \r\nL 30.078125 72.90625 \r\nQ 51.265625 72.90625 61.171875 64.09375 \r\nQ 71.09375 55.28125 71.09375 36.53125 \r\nQ 71.09375 17.671875 61.125 8.828125 \r\nQ 51.171875 0 30.078125 0 \r\nL 9.8125 0 \r\nz\r\n\" id=\"DejaVuSans-68\"/>\r\n       <path d=\"M 41.109375 46.296875 \r\nQ 39.59375 47.171875 37.8125 47.578125 \r\nQ 36.03125 48 33.890625 48 \r\nQ 26.265625 48 22.1875 43.046875 \r\nQ 18.109375 38.09375 18.109375 28.8125 \r\nL 18.109375 0 \r\nL 9.078125 0 \r\nL 9.078125 54.6875 \r\nL 18.109375 54.6875 \r\nL 18.109375 46.1875 \r\nQ 20.953125 51.171875 25.484375 53.578125 \r\nQ 30.03125 56 36.53125 56 \r\nQ 37.453125 56 38.578125 55.875 \r\nQ 39.703125 55.765625 41.0625 55.515625 \r\nz\r\n\" id=\"DejaVuSans-114\"/>\r\n       <path d=\"M 48.6875 27.296875 \r\nQ 48.6875 37.203125 44.609375 42.84375 \r\nQ 40.53125 48.484375 33.40625 48.484375 \r\nQ 26.265625 48.484375 22.1875 42.84375 \r\nQ 18.109375 37.203125 18.109375 27.296875 \r\nQ 18.109375 17.390625 22.1875 11.75 \r\nQ 26.265625 6.109375 33.40625 6.109375 \r\nQ 40.53125 6.109375 44.609375 11.75 \r\nQ 48.6875 17.390625 48.6875 27.296875 \r\nz\r\nM 18.109375 46.390625 \r\nQ 20.953125 51.265625 25.265625 53.625 \r\nQ 29.59375 56 35.59375 56 \r\nQ 45.5625 56 51.78125 48.09375 \r\nQ 58.015625 40.1875 58.015625 27.296875 \r\nQ 58.015625 14.40625 51.78125 6.484375 \r\nQ 45.5625 -1.421875 35.59375 -1.421875 \r\nQ 29.59375 -1.421875 25.265625 0.953125 \r\nQ 20.953125 3.328125 18.109375 8.203125 \r\nL 18.109375 0 \r\nL 9.078125 0 \r\nL 9.078125 75.984375 \r\nL 18.109375 75.984375 \r\nz\r\n\" id=\"DejaVuSans-98\"/>\r\n      </defs>\r\n      <g style=\"fill:#808080;\" transform=\"translate(78.739707 81.065957)scale(0.08 -0.08)\">\r\n       <use xlink:href=\"#DejaVuSans-68\"/>\r\n       <use x=\"77.001953\" xlink:href=\"#DejaVuSans-114\"/>\r\n       <use x=\"118.115234\" xlink:href=\"#DejaVuSans-105\"/>\r\n       <use x=\"145.898438\" xlink:href=\"#DejaVuSans-98\"/>\r\n       <use x=\"209.375\" xlink:href=\"#DejaVuSans-98\"/>\r\n       <use x=\"272.851562\" xlink:href=\"#DejaVuSans-108\"/>\r\n       <use x=\"300.634766\" xlink:href=\"#DejaVuSans-105\"/>\r\n       <use x=\"328.417969\" xlink:href=\"#DejaVuSans-110\"/>\r\n       <use x=\"391.796875\" xlink:href=\"#DejaVuSans-103\"/>\r\n      </g>\r\n     </g>\r\n    </g>\r\n    <g id=\"xtick_5\">\r\n     <g id=\"line2d_5\">\r\n      <path clip-path=\"url(#p8cb623f1f8)\" d=\"M 260.60375 242.51125 \r\nL 43.16375 242.51125 \r\n\" style=\"fill:none;stroke:#b0b0b0;stroke-linecap:square;stroke-width:0.8;\"/>\r\n     </g>\r\n     <g id=\"text_5\">\r\n      <!-- BallControl -->\r\n      <defs>\r\n       <path d=\"M 19.671875 34.8125 \r\nL 19.671875 8.109375 \r\nL 35.5 8.109375 \r\nQ 43.453125 8.109375 47.28125 11.40625 \r\nQ 51.125 14.703125 51.125 21.484375 \r\nQ 51.125 28.328125 47.28125 31.5625 \r\nQ 43.453125 34.8125 35.5 34.8125 \r\nz\r\nM 19.671875 64.796875 \r\nL 19.671875 42.828125 \r\nL 34.28125 42.828125 \r\nQ 41.5 42.828125 45.03125 45.53125 \r\nQ 48.578125 48.25 48.578125 53.8125 \r\nQ 48.578125 59.328125 45.03125 62.0625 \r\nQ 41.5 64.796875 34.28125 64.796875 \r\nz\r\nM 9.8125 72.90625 \r\nL 35.015625 72.90625 \r\nQ 46.296875 72.90625 52.390625 68.21875 \r\nQ 58.5 63.53125 58.5 54.890625 \r\nQ 58.5 48.1875 55.375 44.234375 \r\nQ 52.25 40.28125 46.1875 39.3125 \r\nQ 53.46875 37.75 57.5 32.78125 \r\nQ 61.53125 27.828125 61.53125 20.40625 \r\nQ 61.53125 10.640625 54.890625 5.3125 \r\nQ 48.25 0 35.984375 0 \r\nL 9.8125 0 \r\nz\r\n\" id=\"DejaVuSans-66\"/>\r\n       <path d=\"M 64.40625 67.28125 \r\nL 64.40625 56.890625 \r\nQ 59.421875 61.53125 53.78125 63.8125 \r\nQ 48.140625 66.109375 41.796875 66.109375 \r\nQ 29.296875 66.109375 22.65625 58.46875 \r\nQ 16.015625 50.828125 16.015625 36.375 \r\nQ 16.015625 21.96875 22.65625 14.328125 \r\nQ 29.296875 6.6875 41.796875 6.6875 \r\nQ 48.140625 6.6875 53.78125 8.984375 \r\nQ 59.421875 11.28125 64.40625 15.921875 \r\nL 64.40625 5.609375 \r\nQ 59.234375 2.09375 53.4375 0.328125 \r\nQ 47.65625 -1.421875 41.21875 -1.421875 \r\nQ 24.65625 -1.421875 15.125 8.703125 \r\nQ 5.609375 18.84375 5.609375 36.375 \r\nQ 5.609375 53.953125 15.125 64.078125 \r\nQ 24.65625 74.21875 41.21875 74.21875 \r\nQ 47.75 74.21875 53.53125 72.484375 \r\nQ 59.328125 70.75 64.40625 67.28125 \r\nz\r\n\" id=\"DejaVuSans-67\"/>\r\n      </defs>\r\n      <g style=\"fill:#808080;\" transform=\"translate(7.2 244.71875)scale(0.08 -0.08)\">\r\n       <use xlink:href=\"#DejaVuSans-66\"/>\r\n       <use x=\"68.603516\" xlink:href=\"#DejaVuSans-97\"/>\r\n       <use x=\"129.882812\" xlink:href=\"#DejaVuSans-108\"/>\r\n       <use x=\"157.666016\" xlink:href=\"#DejaVuSans-108\"/>\r\n       <use x=\"185.449219\" xlink:href=\"#DejaVuSans-67\"/>\r\n       <use x=\"255.273438\" xlink:href=\"#DejaVuSans-111\"/>\r\n       <use x=\"316.455078\" xlink:href=\"#DejaVuSans-110\"/>\r\n       <use x=\"379.833984\" xlink:href=\"#DejaVuSans-116\"/>\r\n       <use x=\"419.042969\" xlink:href=\"#DejaVuSans-114\"/>\r\n       <use x=\"460.125\" xlink:href=\"#DejaVuSans-111\"/>\r\n       <use x=\"521.306641\" xlink:href=\"#DejaVuSans-108\"/>\r\n      </g>\r\n     </g>\r\n    </g>\r\n    <g id=\"xtick_6\">\r\n     <g id=\"line2d_6\">\r\n      <path clip-path=\"url(#p8cb623f1f8)\" d=\"M 260.60375 242.51125 \r\nL 106.850451 396.264549 \r\n\" style=\"fill:none;stroke:#b0b0b0;stroke-linecap:square;stroke-width:0.8;\"/>\r\n     </g>\r\n     <g id=\"text_6\">\r\n      <!-- LongShots -->\r\n      <defs>\r\n       <path d=\"M 9.8125 72.90625 \r\nL 19.671875 72.90625 \r\nL 19.671875 8.296875 \r\nL 55.171875 8.296875 \r\nL 55.171875 0 \r\nL 9.8125 0 \r\nz\r\n\" id=\"DejaVuSans-76\"/>\r\n       <path d=\"M 53.515625 70.515625 \r\nL 53.515625 60.890625 \r\nQ 47.90625 63.578125 42.921875 64.890625 \r\nQ 37.9375 66.21875 33.296875 66.21875 \r\nQ 25.25 66.21875 20.875 63.09375 \r\nQ 16.5 59.96875 16.5 54.203125 \r\nQ 16.5 49.359375 19.40625 46.890625 \r\nQ 22.3125 44.4375 30.421875 42.921875 \r\nL 36.375 41.703125 \r\nQ 47.40625 39.59375 52.65625 34.296875 \r\nQ 57.90625 29 57.90625 20.125 \r\nQ 57.90625 9.515625 50.796875 4.046875 \r\nQ 43.703125 -1.421875 29.984375 -1.421875 \r\nQ 24.8125 -1.421875 18.96875 -0.25 \r\nQ 13.140625 0.921875 6.890625 3.21875 \r\nL 6.890625 13.375 \r\nQ 12.890625 10.015625 18.65625 8.296875 \r\nQ 24.421875 6.59375 29.984375 6.59375 \r\nQ 38.421875 6.59375 43.015625 9.90625 \r\nQ 47.609375 13.234375 47.609375 19.390625 \r\nQ 47.609375 24.75 44.3125 27.78125 \r\nQ 41.015625 30.8125 33.5 32.328125 \r\nL 27.484375 33.5 \r\nQ 16.453125 35.6875 11.515625 40.375 \r\nQ 6.59375 45.0625 6.59375 53.421875 \r\nQ 6.59375 63.09375 13.40625 68.65625 \r\nQ 20.21875 74.21875 32.171875 74.21875 \r\nQ 37.3125 74.21875 42.625 73.28125 \r\nQ 47.953125 72.359375 53.515625 70.515625 \r\nz\r\n\" id=\"DejaVuSans-83\"/>\r\n      </defs>\r\n      <g style=\"fill:#808080;\" transform=\"translate(76.027207 408.371543)scale(0.08 -0.08)\">\r\n       <use xlink:href=\"#DejaVuSans-76\"/>\r\n       <use x=\"55.697266\" xlink:href=\"#DejaVuSans-111\"/>\r\n       <use x=\"116.878906\" xlink:href=\"#DejaVuSans-110\"/>\r\n       <use x=\"180.257812\" xlink:href=\"#DejaVuSans-103\"/>\r\n       <use x=\"243.734375\" xlink:href=\"#DejaVuSans-83\"/>\r\n       <use x=\"307.210938\" xlink:href=\"#DejaVuSans-104\"/>\r\n       <use x=\"370.589844\" xlink:href=\"#DejaVuSans-111\"/>\r\n       <use x=\"431.771484\" xlink:href=\"#DejaVuSans-116\"/>\r\n       <use x=\"470.980469\" xlink:href=\"#DejaVuSans-115\"/>\r\n      </g>\r\n     </g>\r\n    </g>\r\n    <g id=\"xtick_7\">\r\n     <g id=\"line2d_7\">\r\n      <path clip-path=\"url(#p8cb623f1f8)\" d=\"M 260.60375 242.51125 \r\nL 260.60375 459.95125 \r\n\" style=\"fill:none;stroke:#b0b0b0;stroke-linecap:square;stroke-width:0.8;\"/>\r\n     </g>\r\n     <g id=\"text_7\">\r\n      <!-- Volleys -->\r\n      <defs>\r\n       <path d=\"M 28.609375 0 \r\nL 0.78125 72.90625 \r\nL 11.078125 72.90625 \r\nL 34.1875 11.53125 \r\nL 57.328125 72.90625 \r\nL 67.578125 72.90625 \r\nL 39.796875 0 \r\nz\r\n\" id=\"DejaVuSans-86\"/>\r\n       <path d=\"M 32.171875 -5.078125 \r\nQ 28.375 -14.84375 24.75 -17.8125 \r\nQ 21.140625 -20.796875 15.09375 -20.796875 \r\nL 7.90625 -20.796875 \r\nL 7.90625 -13.28125 \r\nL 13.1875 -13.28125 \r\nQ 16.890625 -13.28125 18.9375 -11.515625 \r\nQ 21 -9.765625 23.484375 -3.21875 \r\nL 25.09375 0.875 \r\nL 2.984375 54.6875 \r\nL 12.5 54.6875 \r\nL 29.59375 11.921875 \r\nL 46.6875 54.6875 \r\nL 56.203125 54.6875 \r\nz\r\n\" id=\"DejaVuSans-121\"/>\r\n      </defs>\r\n      <g style=\"fill:#808080;\" transform=\"translate(246.289375 476.15875)scale(0.08 -0.08)\">\r\n       <use xlink:href=\"#DejaVuSans-86\"/>\r\n       <use x=\"68.298828\" xlink:href=\"#DejaVuSans-111\"/>\r\n       <use x=\"129.480469\" xlink:href=\"#DejaVuSans-108\"/>\r\n       <use x=\"157.263672\" xlink:href=\"#DejaVuSans-108\"/>\r\n       <use x=\"185.046875\" xlink:href=\"#DejaVuSans-101\"/>\r\n       <use x=\"246.570312\" xlink:href=\"#DejaVuSans-121\"/>\r\n       <use x=\"305.75\" xlink:href=\"#DejaVuSans-115\"/>\r\n      </g>\r\n     </g>\r\n    </g>\r\n    <g id=\"xtick_8\">\r\n     <g id=\"line2d_8\">\r\n      <path clip-path=\"url(#p8cb623f1f8)\" d=\"M 260.60375 242.51125 \r\nL 414.357049 396.264549 \r\n\" style=\"fill:none;stroke:#b0b0b0;stroke-linecap:square;stroke-width:0.8;\"/>\r\n     </g>\r\n     <g id=\"text_8\">\r\n      <!-- Vision -->\r\n      <g style=\"fill:#808080;\" transform=\"translate(412.232793 408.371543)scale(0.08 -0.08)\">\r\n       <use xlink:href=\"#DejaVuSans-86\"/>\r\n       <use x=\"68.376953\" xlink:href=\"#DejaVuSans-105\"/>\r\n       <use x=\"96.160156\" xlink:href=\"#DejaVuSans-115\"/>\r\n       <use x=\"148.259766\" xlink:href=\"#DejaVuSans-105\"/>\r\n       <use x=\"176.042969\" xlink:href=\"#DejaVuSans-111\"/>\r\n       <use x=\"237.224609\" xlink:href=\"#DejaVuSans-110\"/>\r\n      </g>\r\n     </g>\r\n    </g>\r\n   </g>\r\n   <g id=\"matplotlib.axis_2\">\r\n    <g id=\"ytick_1\">\r\n     <g id=\"line2d_9\">\r\n      <path clip-path=\"url(#p8cb623f1f8)\" d=\"M 347.57975 242.51125 \r\nL 347.367881 236.444111 \r\nL 346.733306 230.40653 \r\nL 345.679116 224.427923 \r\nL 344.210447 218.537415 \r\nL 342.334455 212.763706 \r\nL 340.06028 207.134924 \r\nL 337.399 201.678491 \r\nL 334.363581 196.420992 \r\nL 330.968812 191.38804 \r\nL 327.231231 186.604155 \r\nL 323.169048 182.092644 \r\nL 318.802054 177.875486 \r\nL 314.151522 173.973227 \r\nL 309.240112 170.404878 \r\nL 304.09175 167.187824 \r\nL 298.731519 164.337739 \r\nL 293.185533 161.868507 \r\nL 287.480812 159.792158 \r\nL 281.645149 158.118809 \r\nL 275.706974 156.856611 \r\nL 269.695218 156.011714 \r\nL 263.639169 155.588233 \r\nL 257.568331 155.588233 \r\nL 251.512282 156.011714 \r\nL 245.500526 156.856611 \r\nL 239.562351 158.118809 \r\nL 233.726688 159.792158 \r\nL 228.021967 161.868507 \r\nL 222.475981 164.337739 \r\nL 217.11575 167.187824 \r\nL 211.967388 170.404878 \r\nL 207.055978 173.973227 \r\nL 202.405446 177.875486 \r\nL 198.038452 182.092644 \r\nL 193.976269 186.604155 \r\nL 190.238688 191.38804 \r\nL 186.843919 196.420992 \r\nL 183.8085 201.678491 \r\nL 181.14722 207.134924 \r\nL 178.873045 212.763706 \r\nL 176.997053 218.537415 \r\nL 175.528384 224.427923 \r\nL 174.474194 230.40653 \r\nL 173.839619 236.444111 \r\nL 173.62775 242.51125 \r\nL 173.839619 248.578389 \r\nL 174.474194 254.61597 \r\nL 175.528384 260.594577 \r\nL 176.997053 266.485085 \r\nL 178.873045 272.258794 \r\nL 181.14722 277.887576 \r\nL 183.8085 283.344009 \r\nL 186.843919 288.601508 \r\nL 190.238688 293.63446 \r\nL 193.976269 298.418345 \r\nL 198.038452 302.929856 \r\nL 202.405446 307.147014 \r\nL 207.055978 311.049273 \r\nL 211.967388 314.617622 \r\nL 217.11575 317.834676 \r\nL 222.475981 320.684761 \r\nL 228.021967 323.153993 \r\nL 233.726688 325.230342 \r\nL 239.562351 326.903691 \r\nL 245.500526 328.165889 \r\nL 251.512282 329.010786 \r\nL 257.568331 329.434267 \r\nL 263.639169 329.434267 \r\nL 269.695218 329.010786 \r\nL 275.706974 328.165889 \r\nL 281.645149 326.903691 \r\nL 287.480812 325.230342 \r\nL 293.185533 323.153993 \r\nL 298.731519 320.684761 \r\nL 304.09175 317.834676 \r\nL 309.240112 314.617622 \r\nL 314.151522 311.049273 \r\nL 318.802054 307.147014 \r\nL 323.169048 302.929856 \r\nL 327.231231 298.418345 \r\nL 330.968812 293.63446 \r\nL 334.363581 288.601508 \r\nL 337.399 283.344009 \r\nL 340.06028 277.887576 \r\nL 342.334455 272.258794 \r\nL 344.210447 266.485085 \r\nL 345.679116 260.594577 \r\nL 346.733306 254.61597 \r\nL 347.367881 248.578389 \r\nL 347.57975 242.51125 \r\nL 347.57975 242.51125 \r\n\" style=\"fill:none;stroke:#b0b0b0;stroke-linecap:square;stroke-width:0.8;\"/>\r\n     </g>\r\n     <g id=\"text_9\">\r\n      <!-- 40 -->\r\n      <defs>\r\n       <path d=\"M 37.796875 64.3125 \r\nL 12.890625 25.390625 \r\nL 37.796875 25.390625 \r\nz\r\nM 35.203125 72.90625 \r\nL 47.609375 72.90625 \r\nL 47.609375 25.390625 \r\nL 58.015625 25.390625 \r\nL 58.015625 17.1875 \r\nL 47.609375 17.1875 \r\nL 47.609375 0 \r\nL 37.796875 0 \r\nL 37.796875 17.1875 \r\nL 4.890625 17.1875 \r\nL 4.890625 26.703125 \r\nz\r\n\" id=\"DejaVuSans-52\"/>\r\n       <path d=\"M 31.78125 66.40625 \r\nQ 24.171875 66.40625 20.328125 58.90625 \r\nQ 16.5 51.421875 16.5 36.375 \r\nQ 16.5 21.390625 20.328125 13.890625 \r\nQ 24.171875 6.390625 31.78125 6.390625 \r\nQ 39.453125 6.390625 43.28125 13.890625 \r\nQ 47.125 21.390625 47.125 36.375 \r\nQ 47.125 51.421875 43.28125 58.90625 \r\nQ 39.453125 66.40625 31.78125 66.40625 \r\nz\r\nM 31.78125 74.21875 \r\nQ 44.046875 74.21875 50.515625 64.515625 \r\nQ 56.984375 54.828125 56.984375 36.375 \r\nQ 56.984375 17.96875 50.515625 8.265625 \r\nQ 44.046875 -1.421875 31.78125 -1.421875 \r\nQ 19.53125 -1.421875 13.0625 8.265625 \r\nQ 6.59375 17.96875 6.59375 36.375 \r\nQ 6.59375 54.828125 13.0625 64.515625 \r\nQ 19.53125 74.21875 31.78125 74.21875 \r\nz\r\n\" id=\"DejaVuSans-48\"/>\r\n      </defs>\r\n      <g style=\"fill:#808080;\" transform=\"translate(347.57975 241.055469)scale(0.07 -0.07)\">\r\n       <use xlink:href=\"#DejaVuSans-52\"/>\r\n       <use x=\"63.623047\" xlink:href=\"#DejaVuSans-48\"/>\r\n      </g>\r\n     </g>\r\n    </g>\r\n    <g id=\"ytick_2\">\r\n     <g id=\"line2d_10\">\r\n      <path clip-path=\"url(#p8cb623f1f8)\" d=\"M 391.06775 242.51125 \r\nL 390.988275 237.958122 \r\nL 390.749946 233.410541 \r\nL 390.353055 228.874049 \r\nL 389.798083 224.354171 \r\nL 389.085709 219.856414 \r\nL 388.216799 215.386259 \r\nL 387.192412 210.949152 \r\nL 386.013796 206.550498 \r\nL 384.682387 202.195657 \r\nL 383.199808 197.889934 \r\nL 381.567864 193.638575 \r\nL 379.788545 189.446761 \r\nL 377.864016 185.319597 \r\nL 375.796625 181.262112 \r\nL 373.588888 177.27925 \r\nL 371.243497 173.375863 \r\nL 368.763308 169.556707 \r\nL 366.151343 165.826435 \r\nL 363.410785 162.189591 \r\nL 360.544972 158.650607 \r\nL 357.557397 155.213795 \r\nL 354.451698 151.88334 \r\nL 351.23166 148.663302 \r\nL 347.901205 145.557603 \r\nL 344.464393 142.570028 \r\nL 340.925409 139.704215 \r\nL 337.288565 136.963657 \r\nL 333.558293 134.351692 \r\nL 329.739137 131.871503 \r\nL 325.83575 129.526112 \r\nL 321.852888 127.318375 \r\nL 317.795403 125.250984 \r\nL 313.668239 123.326455 \r\nL 309.476425 121.547136 \r\nL 305.225066 119.915192 \r\nL 300.919343 118.432613 \r\nL 296.564502 117.101204 \r\nL 292.165848 115.922588 \r\nL 287.728741 114.898201 \r\nL 283.258586 114.029291 \r\nL 278.760829 113.316917 \r\nL 274.240951 112.761945 \r\nL 269.704459 112.365054 \r\nL 265.156878 112.126725 \r\nL 260.60375 112.04725 \r\nL 256.050622 112.126725 \r\nL 251.503041 112.365054 \r\nL 246.966549 112.761945 \r\nL 242.446671 113.316917 \r\nL 237.948914 114.029291 \r\nL 233.478759 114.898201 \r\nL 229.041652 115.922588 \r\nL 224.642998 117.101204 \r\nL 220.288157 118.432613 \r\nL 215.982434 119.915192 \r\nL 211.731075 121.547136 \r\nL 207.539261 123.326455 \r\nL 203.412097 125.250984 \r\nL 199.354612 127.318375 \r\nL 195.37175 129.526112 \r\nL 191.468363 131.871503 \r\nL 187.649207 134.351692 \r\nL 183.918935 136.963657 \r\nL 180.282091 139.704215 \r\nL 176.743107 142.570028 \r\nL 173.306295 145.557603 \r\nL 169.97584 148.663302 \r\nL 166.755802 151.88334 \r\nL 163.650103 155.213795 \r\nL 160.662528 158.650607 \r\nL 157.796715 162.189591 \r\nL 155.056157 165.826435 \r\nL 152.444192 169.556707 \r\nL 149.964003 173.375863 \r\nL 147.618612 177.27925 \r\nL 145.410875 181.262112 \r\nL 143.343484 185.319597 \r\nL 141.418955 189.446761 \r\nL 139.639636 193.638575 \r\nL 138.007692 197.889934 \r\nL 136.525113 202.195657 \r\nL 135.193704 206.550498 \r\nL 134.015088 210.949152 \r\nL 132.990701 215.386259 \r\nL 132.121791 219.856414 \r\nL 131.409417 224.354171 \r\nL 130.854445 228.874049 \r\nL 130.457554 233.410541 \r\nL 130.219225 237.958122 \r\nL 130.13975 242.51125 \r\nL 130.219225 247.064378 \r\nL 130.457554 251.611959 \r\nL 130.854445 256.148451 \r\nL 131.409417 260.668329 \r\nL 132.121791 265.166086 \r\nL 132.990701 269.636241 \r\nL 134.015088 274.073348 \r\nL 135.193704 278.472002 \r\nL 136.525113 282.826843 \r\nL 138.007692 287.132566 \r\nL 139.639636 291.383925 \r\nL 141.418955 295.575739 \r\nL 143.343484 299.702903 \r\nL 145.410875 303.760388 \r\nL 147.618612 307.74325 \r\nL 149.964003 311.646637 \r\nL 152.444192 315.465793 \r\nL 155.056157 319.196065 \r\nL 157.796715 322.832909 \r\nL 160.662528 326.371893 \r\nL 163.650103 329.808705 \r\nL 166.755802 333.13916 \r\nL 169.97584 336.359198 \r\nL 173.306295 339.464897 \r\nL 176.743107 342.452472 \r\nL 180.282091 345.318285 \r\nL 183.918935 348.058843 \r\nL 187.649207 350.670808 \r\nL 191.468363 353.150997 \r\nL 195.37175 355.496388 \r\nL 199.354612 357.704125 \r\nL 203.412097 359.771516 \r\nL 207.539261 361.696045 \r\nL 211.731075 363.475364 \r\nL 215.982434 365.107308 \r\nL 220.288157 366.589887 \r\nL 224.642998 367.921296 \r\nL 229.041652 369.099912 \r\nL 233.478759 370.124299 \r\nL 237.948914 370.993209 \r\nL 242.446671 371.705583 \r\nL 246.966549 372.260555 \r\nL 251.503041 372.657446 \r\nL 256.050622 372.895775 \r\nL 260.60375 372.97525 \r\nL 265.156878 372.895775 \r\nL 269.704459 372.657446 \r\nL 274.240951 372.260555 \r\nL 278.760829 371.705583 \r\nL 283.258586 370.993209 \r\nL 287.728741 370.124299 \r\nL 292.165848 369.099912 \r\nL 296.564502 367.921296 \r\nL 300.919343 366.589887 \r\nL 305.225066 365.107308 \r\nL 309.476425 363.475364 \r\nL 313.668239 361.696045 \r\nL 317.795403 359.771516 \r\nL 321.852888 357.704125 \r\nL 325.83575 355.496388 \r\nL 329.739137 353.150997 \r\nL 333.558293 350.670808 \r\nL 337.288565 348.058843 \r\nL 340.925409 345.318285 \r\nL 344.464393 342.452472 \r\nL 347.901205 339.464897 \r\nL 351.23166 336.359198 \r\nL 354.451698 333.13916 \r\nL 357.557397 329.808705 \r\nL 360.544972 326.371893 \r\nL 363.410785 322.832909 \r\nL 366.151343 319.196065 \r\nL 368.763308 315.465793 \r\nL 371.243497 311.646637 \r\nL 373.588888 307.74325 \r\nL 375.796625 303.760388 \r\nL 377.864016 299.702903 \r\nL 379.788545 295.575739 \r\nL 381.567864 291.383925 \r\nL 383.199808 287.132566 \r\nL 384.682387 282.826843 \r\nL 386.013796 278.472002 \r\nL 387.192412 274.073348 \r\nL 388.216799 269.636241 \r\nL 389.085709 265.166086 \r\nL 389.798083 260.668329 \r\nL 390.353055 256.148451 \r\nL 390.749946 251.611959 \r\nL 390.988275 247.064378 \r\nL 391.06775 242.51125 \r\nL 391.06775 242.51125 \r\n\" style=\"fill:none;stroke:#b0b0b0;stroke-linecap:square;stroke-width:0.8;\"/>\r\n     </g>\r\n     <g id=\"text_10\">\r\n      <!-- 60 -->\r\n      <defs>\r\n       <path d=\"M 33.015625 40.375 \r\nQ 26.375 40.375 22.484375 35.828125 \r\nQ 18.609375 31.296875 18.609375 23.390625 \r\nQ 18.609375 15.53125 22.484375 10.953125 \r\nQ 26.375 6.390625 33.015625 6.390625 \r\nQ 39.65625 6.390625 43.53125 10.953125 \r\nQ 47.40625 15.53125 47.40625 23.390625 \r\nQ 47.40625 31.296875 43.53125 35.828125 \r\nQ 39.65625 40.375 33.015625 40.375 \r\nz\r\nM 52.59375 71.296875 \r\nL 52.59375 62.3125 \r\nQ 48.875 64.0625 45.09375 64.984375 \r\nQ 41.3125 65.921875 37.59375 65.921875 \r\nQ 27.828125 65.921875 22.671875 59.328125 \r\nQ 17.53125 52.734375 16.796875 39.40625 \r\nQ 19.671875 43.65625 24.015625 45.921875 \r\nQ 28.375 48.1875 33.59375 48.1875 \r\nQ 44.578125 48.1875 50.953125 41.515625 \r\nQ 57.328125 34.859375 57.328125 23.390625 \r\nQ 57.328125 12.15625 50.6875 5.359375 \r\nQ 44.046875 -1.421875 33.015625 -1.421875 \r\nQ 20.359375 -1.421875 13.671875 8.265625 \r\nQ 6.984375 17.96875 6.984375 36.375 \r\nQ 6.984375 53.65625 15.1875 63.9375 \r\nQ 23.390625 74.21875 37.203125 74.21875 \r\nQ 40.921875 74.21875 44.703125 73.484375 \r\nQ 48.484375 72.75 52.59375 71.296875 \r\nz\r\n\" id=\"DejaVuSans-54\"/>\r\n      </defs>\r\n      <g style=\"fill:#808080;\" transform=\"translate(391.06775 241.055469)scale(0.07 -0.07)\">\r\n       <use xlink:href=\"#DejaVuSans-54\"/>\r\n       <use x=\"63.623047\" xlink:href=\"#DejaVuSans-48\"/>\r\n      </g>\r\n     </g>\r\n    </g>\r\n    <g id=\"ytick_3\">\r\n     <g id=\"line2d_11\">\r\n      <path clip-path=\"url(#p8cb623f1f8)\" d=\"M 434.55575 242.51125 \r\nL 434.449783 236.440413 \r\nL 434.132012 230.376972 \r\nL 433.602823 224.328315 \r\nL 432.862861 218.301811 \r\nL 431.913028 212.304802 \r\nL 430.754481 206.344596 \r\nL 429.388632 200.428452 \r\nL 427.817145 194.563581 \r\nL 426.041933 188.757126 \r\nL 424.065161 183.016162 \r\nL 421.889236 177.347684 \r\nL 419.516809 171.758597 \r\nL 416.950772 166.255712 \r\nL 414.19425 160.845733 \r\nL 411.250601 155.53525 \r\nL 408.123412 150.330734 \r\nL 404.816494 145.238526 \r\nL 401.333874 140.26483 \r\nL 397.679797 135.415705 \r\nL 393.858713 130.69706 \r\nL 389.875279 126.114643 \r\nL 385.734347 121.674037 \r\nL 381.440963 117.380653 \r\nL 377.000357 113.239721 \r\nL 372.41794 109.256287 \r\nL 367.699295 105.435203 \r\nL 362.85017 101.781126 \r\nL 357.876474 98.298506 \r\nL 352.784266 94.991588 \r\nL 347.57975 91.864399 \r\nL 342.269267 88.92075 \r\nL 336.859288 86.164228 \r\nL 331.356403 83.598191 \r\nL 325.767316 81.225764 \r\nL 320.098838 79.049839 \r\nL 314.357874 77.073067 \r\nL 308.551419 75.297855 \r\nL 302.686548 73.726368 \r\nL 296.770404 72.360519 \r\nL 290.810198 71.201972 \r\nL 284.813189 70.252139 \r\nL 278.786685 69.512177 \r\nL 272.738028 68.982988 \r\nL 266.674587 68.665217 \r\nL 260.60375 68.55925 \r\nL 254.532913 68.665217 \r\nL 248.469472 68.982988 \r\nL 242.420815 69.512177 \r\nL 236.394311 70.252139 \r\nL 230.397302 71.201972 \r\nL 224.437096 72.360519 \r\nL 218.520952 73.726368 \r\nL 212.656081 75.297855 \r\nL 206.849626 77.073067 \r\nL 201.108662 79.049839 \r\nL 195.440184 81.225764 \r\nL 189.851097 83.598191 \r\nL 184.348212 86.164228 \r\nL 178.938233 88.92075 \r\nL 173.62775 91.864399 \r\nL 168.423234 94.991588 \r\nL 163.331026 98.298506 \r\nL 158.35733 101.781126 \r\nL 153.508205 105.435203 \r\nL 148.78956 109.256287 \r\nL 144.207143 113.239721 \r\nL 139.766537 117.380653 \r\nL 135.473153 121.674037 \r\nL 131.332221 126.114643 \r\nL 127.348787 130.69706 \r\nL 123.527703 135.415705 \r\nL 119.873626 140.26483 \r\nL 116.391006 145.238526 \r\nL 113.084088 150.330734 \r\nL 109.956899 155.53525 \r\nL 107.01325 160.845733 \r\nL 104.256728 166.255712 \r\nL 101.690691 171.758597 \r\nL 99.318264 177.347684 \r\nL 97.142339 183.016162 \r\nL 95.165567 188.757126 \r\nL 93.390355 194.563581 \r\nL 91.818868 200.428452 \r\nL 90.453019 206.344596 \r\nL 89.294472 212.304802 \r\nL 88.344639 218.301811 \r\nL 87.604677 224.328315 \r\nL 87.075488 230.376972 \r\nL 86.757717 236.440413 \r\nL 86.65175 242.51125 \r\nL 86.757717 248.582087 \r\nL 87.075488 254.645528 \r\nL 87.604677 260.694185 \r\nL 88.344639 266.720689 \r\nL 89.294472 272.717698 \r\nL 90.453019 278.677904 \r\nL 91.818868 284.594048 \r\nL 93.390355 290.458919 \r\nL 95.165567 296.265374 \r\nL 97.142339 302.006338 \r\nL 99.318264 307.674816 \r\nL 101.690691 313.263903 \r\nL 104.256728 318.766788 \r\nL 107.01325 324.176767 \r\nL 109.956899 329.48725 \r\nL 113.084088 334.691766 \r\nL 116.391006 339.783974 \r\nL 119.873626 344.75767 \r\nL 123.527703 349.606795 \r\nL 127.348787 354.32544 \r\nL 131.332221 358.907857 \r\nL 135.473153 363.348463 \r\nL 139.766537 367.641847 \r\nL 144.207143 371.782779 \r\nL 148.78956 375.766213 \r\nL 153.508205 379.587297 \r\nL 158.35733 383.241374 \r\nL 163.331026 386.723994 \r\nL 168.423234 390.030912 \r\nL 173.62775 393.158101 \r\nL 178.938233 396.10175 \r\nL 184.348212 398.858272 \r\nL 189.851097 401.424309 \r\nL 195.440184 403.796736 \r\nL 201.108662 405.972661 \r\nL 206.849626 407.949433 \r\nL 212.656081 409.724645 \r\nL 218.520952 411.296132 \r\nL 224.437096 412.661981 \r\nL 230.397302 413.820528 \r\nL 236.394311 414.770361 \r\nL 242.420815 415.510323 \r\nL 248.469472 416.039512 \r\nL 254.532913 416.357283 \r\nL 260.60375 416.46325 \r\nL 266.674587 416.357283 \r\nL 272.738028 416.039512 \r\nL 278.786685 415.510323 \r\nL 284.813189 414.770361 \r\nL 290.810198 413.820528 \r\nL 296.770404 412.661981 \r\nL 302.686548 411.296132 \r\nL 308.551419 409.724645 \r\nL 314.357874 407.949433 \r\nL 320.098838 405.972661 \r\nL 325.767316 403.796736 \r\nL 331.356403 401.424309 \r\nL 336.859288 398.858272 \r\nL 342.269267 396.10175 \r\nL 347.57975 393.158101 \r\nL 352.784266 390.030912 \r\nL 357.876474 386.723994 \r\nL 362.85017 383.241374 \r\nL 367.699295 379.587297 \r\nL 372.41794 375.766213 \r\nL 377.000357 371.782779 \r\nL 381.440963 367.641847 \r\nL 385.734347 363.348463 \r\nL 389.875279 358.907857 \r\nL 393.858713 354.32544 \r\nL 397.679797 349.606795 \r\nL 401.333874 344.75767 \r\nL 404.816494 339.783974 \r\nL 408.123412 334.691766 \r\nL 411.250601 329.48725 \r\nL 414.19425 324.176767 \r\nL 416.950772 318.766788 \r\nL 419.516809 313.263903 \r\nL 421.889236 307.674816 \r\nL 424.065161 302.006338 \r\nL 426.041933 296.265374 \r\nL 427.817145 290.458919 \r\nL 429.388632 284.594048 \r\nL 430.754481 278.677904 \r\nL 431.913028 272.717698 \r\nL 432.862861 266.720689 \r\nL 433.602823 260.694185 \r\nL 434.132012 254.645528 \r\nL 434.449783 248.582087 \r\nL 434.55575 242.51125 \r\nL 434.55575 242.51125 \r\n\" style=\"fill:none;stroke:#b0b0b0;stroke-linecap:square;stroke-width:0.8;\"/>\r\n     </g>\r\n     <g id=\"text_11\">\r\n      <!-- 80 -->\r\n      <defs>\r\n       <path d=\"M 31.78125 34.625 \r\nQ 24.75 34.625 20.71875 30.859375 \r\nQ 16.703125 27.09375 16.703125 20.515625 \r\nQ 16.703125 13.921875 20.71875 10.15625 \r\nQ 24.75 6.390625 31.78125 6.390625 \r\nQ 38.8125 6.390625 42.859375 10.171875 \r\nQ 46.921875 13.96875 46.921875 20.515625 \r\nQ 46.921875 27.09375 42.890625 30.859375 \r\nQ 38.875 34.625 31.78125 34.625 \r\nz\r\nM 21.921875 38.8125 \r\nQ 15.578125 40.375 12.03125 44.71875 \r\nQ 8.5 49.078125 8.5 55.328125 \r\nQ 8.5 64.0625 14.71875 69.140625 \r\nQ 20.953125 74.21875 31.78125 74.21875 \r\nQ 42.671875 74.21875 48.875 69.140625 \r\nQ 55.078125 64.0625 55.078125 55.328125 \r\nQ 55.078125 49.078125 51.53125 44.71875 \r\nQ 48 40.375 41.703125 38.8125 \r\nQ 48.828125 37.15625 52.796875 32.3125 \r\nQ 56.78125 27.484375 56.78125 20.515625 \r\nQ 56.78125 9.90625 50.3125 4.234375 \r\nQ 43.84375 -1.421875 31.78125 -1.421875 \r\nQ 19.734375 -1.421875 13.25 4.234375 \r\nQ 6.78125 9.90625 6.78125 20.515625 \r\nQ 6.78125 27.484375 10.78125 32.3125 \r\nQ 14.796875 37.15625 21.921875 38.8125 \r\nz\r\nM 18.3125 54.390625 \r\nQ 18.3125 48.734375 21.84375 45.5625 \r\nQ 25.390625 42.390625 31.78125 42.390625 \r\nQ 38.140625 42.390625 41.71875 45.5625 \r\nQ 45.3125 48.734375 45.3125 54.390625 \r\nQ 45.3125 60.0625 41.71875 63.234375 \r\nQ 38.140625 66.40625 31.78125 66.40625 \r\nQ 25.390625 66.40625 21.84375 63.234375 \r\nQ 18.3125 60.0625 18.3125 54.390625 \r\nz\r\n\" id=\"DejaVuSans-56\"/>\r\n      </defs>\r\n      <g style=\"fill:#808080;\" transform=\"translate(434.55575 241.055469)scale(0.07 -0.07)\">\r\n       <use xlink:href=\"#DejaVuSans-56\"/>\r\n       <use x=\"63.623047\" xlink:href=\"#DejaVuSans-48\"/>\r\n      </g>\r\n     </g>\r\n    </g>\r\n   </g>\r\n   <g id=\"line2d_12\">\r\n    <path clip-path=\"url(#p8cb623f1f8)\" d=\"M 462.82295 242.51125 \r\nL 280.591679 222.523321 \r\nL 260.60375 46.81525 \r\nL 232.928156 214.835656 \r\nL 169.27895 242.51125 \r\nL 242.153354 260.961646 \r\nL 260.60375 270.77845 \r\nL 365.155993 347.063493 \r\nL 462.82295 242.51125 \r\n\" style=\"fill:none;stroke:#1f77b4;stroke-linecap:square;\"/>\r\n   </g>\r\n   <g id=\"patch_4\">\r\n    <path d=\"M 478.04375 242.51125 \r\nC 478.04375 213.957291 472.419243 185.680983 461.492116 159.300564 \r\nC 450.564988 132.920146 434.547747 108.94865 414.357049 88.757951 \r\nC 394.16635 68.567253 370.194854 52.550012 343.814436 41.622884 \r\nC 317.434017 30.695757 289.157709 25.07125 260.60375 25.07125 \r\nC 232.049791 25.07125 203.773483 30.695757 177.393064 41.622884 \r\nC 151.012646 52.550012 127.04115 68.567253 106.850451 88.757951 \r\nC 86.659753 108.94865 70.642512 132.920146 59.715384 159.300564 \r\nC 48.788257 185.680983 43.16375 213.957291 43.16375 242.51125 \r\nC 43.16375 271.065209 48.788257 299.341517 59.715384 325.721936 \r\nC 70.642512 352.102354 86.659753 376.07385 106.850451 396.264549 \r\nC 127.04115 416.455247 151.012646 432.472488 177.393064 443.399616 \r\nC 203.773483 454.326743 232.049791 459.95125 260.60375 459.95125 \r\nC 289.157709 459.95125 317.434017 454.326743 343.814436 443.399616 \r\nC 370.194854 432.472488 394.16635 416.455247 414.357049 396.264549 \r\nC 434.547747 376.07385 450.564988 352.102354 461.492116 325.721936 \r\nC 472.419243 299.341517 478.04375 271.065209 478.04375 242.51125 \r\n\" style=\"fill:none;stroke:#000000;stroke-linecap:square;stroke-linejoin:miter;stroke-width:0.8;\"/>\r\n   </g>\r\n  </g>\r\n </g>\r\n <defs>\r\n  <clipPath id=\"p8cb623f1f8\">\r\n   <path d=\"M 478.04375 242.51125 \r\nC 478.04375 213.957291 472.419243 185.680983 461.492116 159.300564 \r\nC 450.564988 132.920146 434.547747 108.94865 414.357049 88.757951 \r\nC 394.16635 68.567253 370.194854 52.550012 343.814436 41.622884 \r\nC 317.434017 30.695757 289.157709 25.07125 260.60375 25.07125 \r\nC 232.049791 25.07125 203.773483 30.695757 177.393064 41.622884 \r\nC 151.012646 52.550012 127.04115 68.567253 106.850451 88.757951 \r\nC 86.659753 108.94865 70.642512 132.920146 59.715384 159.300564 \r\nC 48.788257 185.680983 43.16375 213.957291 43.16375 242.51125 \r\nC 43.16375 271.065209 48.788257 299.341517 59.715384 325.721936 \r\nC 70.642512 352.102354 86.659753 376.07385 106.850451 396.264549 \r\nC 127.04115 416.455247 151.012646 432.472488 177.393064 443.399616 \r\nC 203.773483 454.326743 232.049791 459.95125 260.60375 459.95125 \r\nC 289.157709 459.95125 317.434017 454.326743 343.814436 443.399616 \r\nC 370.194854 432.472488 394.16635 416.455247 414.357049 396.264549 \r\nC 434.547747 376.07385 450.564988 352.102354 461.492116 325.721936 \r\nC 472.419243 299.341517 478.04375 271.065209 478.04375 242.51125 \r\nM 260.60375 242.51125 \r\nC 260.60375 242.51125 260.60375 242.51125 260.60375 242.51125 \r\nC 260.60375 242.51125 260.60375 242.51125 260.60375 242.51125 \r\nC 260.60375 242.51125 260.60375 242.51125 260.60375 242.51125 \r\nC 260.60375 242.51125 260.60375 242.51125 260.60375 242.51125 \r\nC 260.60375 242.51125 260.60375 242.51125 260.60375 242.51125 \r\nC 260.60375 242.51125 260.60375 242.51125 260.60375 242.51125 \r\nC 260.60375 242.51125 260.60375 242.51125 260.60375 242.51125 \r\nC 260.60375 242.51125 260.60375 242.51125 260.60375 242.51125 \r\nC 260.60375 242.51125 260.60375 242.51125 260.60375 242.51125 \r\nC 260.60375 242.51125 260.60375 242.51125 260.60375 242.51125 \r\nC 260.60375 242.51125 260.60375 242.51125 260.60375 242.51125 \r\nC 260.60375 242.51125 260.60375 242.51125 260.60375 242.51125 \r\nC 260.60375 242.51125 260.60375 242.51125 260.60375 242.51125 \r\nC 260.60375 242.51125 260.60375 242.51125 260.60375 242.51125 \r\nC 260.60375 242.51125 260.60375 242.51125 260.60375 242.51125 \r\nC 260.60375 242.51125 260.60375 242.51125 260.60375 242.51125 \r\nM 478.04375 242.51125 \r\nz\r\n\"/>\r\n  </clipPath>\r\n </defs>\r\n</svg>\r\n",
      "image/png": "[encoded data removed]"
     },
     "metadata": {
      "needs_background": "dark"
     }
    }
   ],
   "source": [
    "plt.figure(figsize=(12,8))\n",
    "\n",
    "ax = plt.subplot(111, polar=True)\n",
    "\n",
    "plt.xticks(angles[:-1], categories, color='grey', size=8)\n",
    "\n",
    "ax.set_rlabel_position(0)\n",
    "\n",
    "plt.yticks([40, 60, 80], [\"40\", \"60\", \"80\"], color='grey', size=7)\n",
    "plt.ylim(0,100)\n",
    "\n",
    "ax.plot(angles, values, linewidth=1, linestyle='solid')\n",
    "\n",
    "ax.fill(angles, values, 'b', alpha=0.1);"
   ]
  },
  {
   "source": [
    "# Plotly"
   ],
   "cell_type": "markdown",
   "metadata": {}
  },
  {
   "cell_type": "code",
   "execution_count": 23,
   "metadata": {},
   "outputs": [
    {
     "output_type": "display_data",
     "data": {
      "application/vnd.plotly.v1+json": {
       "config": {
        "plotlyServerURL": "https://plot.ly"
       },
       "data": [
        {
         "fill": "toself",
         "name": "L. Messi",
         "r": [
          94,
          95,
          95,
          97,
          96,
          94,
          86,
          94
         ],
         "theta": [
          "Potential",
          "Finishing",
          "Reactions",
          "Dribbling",
          "BallControl",
          "LongShots",
          "Volleys",
          "Vision"
         ],
         "type": "scatterpolar"
        },
        {
         "fill": "toself",
         "name": "Sergio Ramos",
         "r": [
          91,
          60,
          85,
          63,
          84,
          59,
          66,
          63
         ],
         "theta": [
          "Potential",
          "Finishing",
          "Reactions",
          "Dribbling",
          "BallControl",
          "LongShots",
          "Volleys",
          "Vision"
         ],
         "type": "scatterpolar"
        }
       ],
       "layout": {
        "polar": {
         "radialaxis": {
          "range": [
           0,
           100
          ],
          "visible": true
         }
        },
        "showlegend": true,
        "template": {
         "data": {
          "bar": [
           {
            "error_x": {
             "color": "#2a3f5f"
            },
            "error_y": {
             "color": "#2a3f5f"
            },
            "marker": {
             "line": {
              "color": "#E5ECF6",
              "width": 0.5
             }
            },
            "type": "bar"
           }
          ],
          "barpolar": [
           {
            "marker": {
             "line": {
              "color": "#E5ECF6",
              "width": 0.5
             }
            },
            "type": "barpolar"
           }
          ],
          "carpet": [
           {
            "aaxis": {
             "endlinecolor": "#2a3f5f",
             "gridcolor": "white",
             "linecolor": "white",
             "minorgridcolor": "white",
             "startlinecolor": "#2a3f5f"
            },
            "baxis": {
             "endlinecolor": "#2a3f5f",
             "gridcolor": "white",
             "linecolor": "white",
             "minorgridcolor": "white",
             "startlinecolor": "#2a3f5f"
            },
            "type": "carpet"
           }
          ],
          "choropleth": [
           {
            "colorbar": {
             "outlinewidth": 0,
             "ticks": ""
            },
            "type": "choropleth"
           }
          ],
          "contour": [
           {
            "colorbar": {
             "outlinewidth": 0,
             "ticks": ""
            },
            "colorscale": [
             [
              0,
              "#0d0887"
             ],
             [
              0.1111111111111111,
              "#46039f"
             ],
             [
              0.2222222222222222,
              "#7201a8"
             ],
             [
              0.3333333333333333,
              "#9c179e"
             ],
             [
              0.4444444444444444,
              "#bd3786"
             ],
             [
              0.5555555555555556,
              "#d8576b"
             ],
             [
              0.6666666666666666,
              "#ed7953"
             ],
             [
              0.7777777777777778,
              "#fb9f3a"
             ],
             [
              0.8888888888888888,
              "#fdca26"
             ],
             [
              1,
              "#f0f921"
             ]
            ],
            "type": "contour"
           }
          ],
          "contourcarpet": [
           {
            "colorbar": {
             "outlinewidth": 0,
             "ticks": ""
            },
            "type": "contourcarpet"
           }
          ],
          "heatmap": [
           {
            "colorbar": {
             "outlinewidth": 0,
             "ticks": ""
            },
            "colorscale": [
             [
              0,
              "#0d0887"
             ],
             [
              0.1111111111111111,
              "#46039f"
             ],
             [
              0.2222222222222222,
              "#7201a8"
             ],
             [
              0.3333333333333333,
              "#9c179e"
             ],
             [
              0.4444444444444444,
              "#bd3786"
             ],
             [
              0.5555555555555556,
              "#d8576b"
             ],
             [
              0.6666666666666666,
              "#ed7953"
             ],
             [
              0.7777777777777778,
              "#fb9f3a"
             ],
             [
              0.8888888888888888,
              "#fdca26"
             ],
             [
              1,
              "#f0f921"
             ]
            ],
            "type": "heatmap"
           }
          ],
          "heatmapgl": [
           {
            "colorbar": {
             "outlinewidth": 0,
             "ticks": ""
            },
            "colorscale": [
             [
              0,
              "#0d0887"
             ],
             [
              0.1111111111111111,
              "#46039f"
             ],
             [
              0.2222222222222222,
              "#7201a8"
             ],
             [
              0.3333333333333333,
              "#9c179e"
             ],
             [
              0.4444444444444444,
              "#bd3786"
             ],
             [
              0.5555555555555556,
              "#d8576b"
             ],
             [
              0.6666666666666666,
              "#ed7953"
             ],
             [
              0.7777777777777778,
              "#fb9f3a"
             ],
             [
              0.8888888888888888,
              "#fdca26"
             ],
             [
              1,
              "#f0f921"
             ]
            ],
            "type": "heatmapgl"
           }
          ],
          "histogram": [
           {
            "marker": {
             "colorbar": {
              "outlinewidth": 0,
              "ticks": ""
             }
            },
            "type": "histogram"
           }
          ],
          "histogram2d": [
           {
            "colorbar": {
             "outlinewidth": 0,
             "ticks": ""
            },
            "colorscale": [
             [
              0,
              "#0d0887"
             ],
             [
              0.1111111111111111,
              "#46039f"
             ],
             [
              0.2222222222222222,
              "#7201a8"
             ],
             [
              0.3333333333333333,
              "#9c179e"
             ],
             [
              0.4444444444444444,
              "#bd3786"
             ],
             [
              0.5555555555555556,
              "#d8576b"
             ],
             [
              0.6666666666666666,
              "#ed7953"
             ],
             [
              0.7777777777777778,
              "#fb9f3a"
             ],
             [
              0.8888888888888888,
              "#fdca26"
             ],
             [
              1,
              "#f0f921"
             ]
            ],
            "type": "histogram2d"
           }
          ],
          "histogram2dcontour": [
           {
            "colorbar": {
             "outlinewidth": 0,
             "ticks": ""
            },
            "colorscale": [
             [
              0,
              "#0d0887"
             ],
             [
              0.1111111111111111,
              "#46039f"
             ],
             [
              0.2222222222222222,
              "#7201a8"
             ],
             [
              0.3333333333333333,
              "#9c179e"
             ],
             [
              0.4444444444444444,
              "#bd3786"
             ],
             [
              0.5555555555555556,
              "#d8576b"
             ],
             [
              0.6666666666666666,
              "#ed7953"
             ],
             [
              0.7777777777777778,
              "#fb9f3a"
             ],
             [
              0.8888888888888888,
              "#fdca26"
             ],
             [
              1,
              "#f0f921"
             ]
            ],
            "type": "histogram2dcontour"
           }
          ],
          "mesh3d": [
           {
            "colorbar": {
             "outlinewidth": 0,
             "ticks": ""
            },
            "type": "mesh3d"
           }
          ],
          "parcoords": [
           {
            "line": {
             "colorbar": {
              "outlinewidth": 0,
              "ticks": ""
             }
            },
            "type": "parcoords"
           }
          ],
          "pie": [
           {
            "automargin": true,
            "type": "pie"
           }
          ],
          "scatter": [
           {
            "marker": {
             "colorbar": {
              "outlinewidth": 0,
              "ticks": ""
             }
            },
            "type": "scatter"
           }
          ],
          "scatter3d": [
           {
            "line": {
             "colorbar": {
              "outlinewidth": 0,
              "ticks": ""
             }
            },
            "marker": {
             "colorbar": {
              "outlinewidth": 0,
              "ticks": ""
             }
            },
            "type": "scatter3d"
           }
          ],
          "scattercarpet": [
           {
            "marker": {
             "colorbar": {
              "outlinewidth": 0,
              "ticks": ""
             }
            },
            "type": "scattercarpet"
           }
          ],
          "scattergeo": [
           {
            "marker": {
             "colorbar": {
              "outlinewidth": 0,
              "ticks": ""
             }
            },
            "type": "scattergeo"
           }
          ],
          "scattergl": [
           {
            "marker": {
             "colorbar": {
              "outlinewidth": 0,
              "ticks": ""
             }
            },
            "type": "scattergl"
           }
          ],
          "scattermapbox": [
           {
            "marker": {
             "colorbar": {
              "outlinewidth": 0,
              "ticks": ""
             }
            },
            "type": "scattermapbox"
           }
          ],
          "scatterpolar": [
           {
            "marker": {
             "colorbar": {
              "outlinewidth": 0,
              "ticks": ""
             }
            },
            "type": "scatterpolar"
           }
          ],
          "scatterpolargl": [
           {
            "marker": {
             "colorbar": {
              "outlinewidth": 0,
              "ticks": ""
             }
            },
            "type": "scatterpolargl"
           }
          ],
          "scatterternary": [
           {
            "marker": {
             "colorbar": {
              "outlinewidth": 0,
              "ticks": ""
             }
            },
            "type": "scatterternary"
           }
          ],
          "surface": [
           {
            "colorbar": {
             "outlinewidth": 0,
             "ticks": ""
            },
            "colorscale": [
             [
              0,
              "#0d0887"
             ],
             [
              0.1111111111111111,
              "#46039f"
             ],
             [
              0.2222222222222222,
              "#7201a8"
             ],
             [
              0.3333333333333333,
              "#9c179e"
             ],
             [
              0.4444444444444444,
              "#bd3786"
             ],
             [
              0.5555555555555556,
              "#d8576b"
             ],
             [
              0.6666666666666666,
              "#ed7953"
             ],
             [
              0.7777777777777778,
              "#fb9f3a"
             ],
             [
              0.8888888888888888,
              "#fdca26"
             ],
             [
              1,
              "#f0f921"
             ]
            ],
            "type": "surface"
           }
          ],
          "table": [
           {
            "cells": {
             "fill": {
              "color": "#EBF0F8"
             },
             "line": {
              "color": "white"
             }
            },
            "header": {
             "fill": {
              "color": "#C8D4E3"
             },
             "line": {
              "color": "white"
             }
            },
            "type": "table"
           }
          ]
         },
         "layout": {
          "annotationdefaults": {
           "arrowcolor": "#2a3f5f",
           "arrowhead": 0,
           "arrowwidth": 1
          },
          "coloraxis": {
           "colorbar": {
            "outlinewidth": 0,
            "ticks": ""
           }
          },
          "colorscale": {
           "diverging": [
            [
             0,
             "#8e0152"
            ],
            [
             0.1,
             "#c51b7d"
            ],
            [
             0.2,
             "#de77ae"
            ],
            [
             0.3,
             "#f1b6da"
            ],
            [
             0.4,
             "#fde0ef"
            ],
            [
             0.5,
             "#f7f7f7"
            ],
            [
             0.6,
             "#e6f5d0"
            ],
            [
             0.7,
             "#b8e186"
            ],
            [
             0.8,
             "#7fbc41"
            ],
            [
             0.9,
             "#4d9221"
            ],
            [
             1,
             "#276419"
            ]
           ],
           "sequential": [
            [
             0,
             "#0d0887"
            ],
            [
             0.1111111111111111,
             "#46039f"
            ],
            [
             0.2222222222222222,
             "#7201a8"
            ],
            [
             0.3333333333333333,
             "#9c179e"
            ],
            [
             0.4444444444444444,
             "#bd3786"
            ],
            [
             0.5555555555555556,
             "#d8576b"
            ],
            [
             0.6666666666666666,
             "#ed7953"
            ],
            [
             0.7777777777777778,
             "#fb9f3a"
            ],
            [
             0.8888888888888888,
             "#fdca26"
            ],
            [
             1,
             "#f0f921"
            ]
           ],
           "sequentialminus": [
            [
             0,
             "#0d0887"
            ],
            [
             0.1111111111111111,
             "#46039f"
            ],
            [
             0.2222222222222222,
             "#7201a8"
            ],
            [
             0.3333333333333333,
             "#9c179e"
            ],
            [
             0.4444444444444444,
             "#bd3786"
            ],
            [
             0.5555555555555556,
             "#d8576b"
            ],
            [
             0.6666666666666666,
             "#ed7953"
            ],
            [
             0.7777777777777778,
             "#fb9f3a"
            ],
            [
             0.8888888888888888,
             "#fdca26"
            ],
            [
             1,
             "#f0f921"
            ]
           ]
          },
          "colorway": [
           "#636efa",
           "#EF553B",
           "#00cc96",
           "#ab63fa",
           "#FFA15A",
           "#19d3f3",
           "#FF6692",
           "#B6E880",
           "#FF97FF",
           "#FECB52"
          ],
          "font": {
           "color": "#2a3f5f"
          },
          "geo": {
           "bgcolor": "white",
           "lakecolor": "white",
           "landcolor": "#E5ECF6",
           "showlakes": true,
           "showland": true,
           "subunitcolor": "white"
          },
          "hoverlabel": {
           "align": "left"
          },
          "hovermode": "closest",
          "mapbox": {
           "style": "light"
          },
          "paper_bgcolor": "white",
          "plot_bgcolor": "#E5ECF6",
          "polar": {
           "angularaxis": {
            "gridcolor": "white",
            "linecolor": "white",
            "ticks": ""
           },
           "bgcolor": "#E5ECF6",
           "radialaxis": {
            "gridcolor": "white",
            "linecolor": "white",
            "ticks": ""
           }
          },
          "scene": {
           "xaxis": {
            "backgroundcolor": "#E5ECF6",
            "gridcolor": "white",
            "gridwidth": 2,
            "linecolor": "white",
            "showbackground": true,
            "ticks": "",
            "zerolinecolor": "white"
           },
           "yaxis": {
            "backgroundcolor": "#E5ECF6",
            "gridcolor": "white",
            "gridwidth": 2,
            "linecolor": "white",
            "showbackground": true,
            "ticks": "",
            "zerolinecolor": "white"
           },
           "zaxis": {
            "backgroundcolor": "#E5ECF6",
            "gridcolor": "white",
            "gridwidth": 2,
            "linecolor": "white",
            "showbackground": true,
            "ticks": "",
            "zerolinecolor": "white"
           }
          },
          "shapedefaults": {
           "line": {
            "color": "#2a3f5f"
           }
          },
          "ternary": {
           "aaxis": {
            "gridcolor": "white",
            "linecolor": "white",
            "ticks": ""
           },
           "baxis": {
            "gridcolor": "white",
            "linecolor": "white",
            "ticks": ""
           },
           "bgcolor": "#E5ECF6",
           "caxis": {
            "gridcolor": "white",
            "linecolor": "white",
            "ticks": ""
           }
          },
          "title": {
           "x": 0.05
          },
          "xaxis": {
           "automargin": true,
           "gridcolor": "white",
           "linecolor": "white",
           "ticks": "",
           "title": {
            "standoff": 15
           },
           "zerolinecolor": "white",
           "zerolinewidth": 2
          },
          "yaxis": {
           "automargin": true,
           "gridcolor": "white",
           "linecolor": "white",
           "ticks": "",
           "title": {
            "standoff": 15
           },
           "zerolinecolor": "white",
           "zerolinewidth": 2
          }
         }
        }
       }
      }
     },
     "metadata": {}
    }
   ],
   "source": [
    "fig = go.Figure()\n",
    "\n",
    "chosen_name_1 = 'L. Messi'\n",
    "chosen_name_2 = 'Sergio Ramos'\n",
    "values_1 = df_subset.loc[df_subset['Name'] == chosen_name_1,:].drop(['Name', 'Age'], axis=1).values.flatten().tolist()\n",
    "values_2 = df_subset.loc[df_subset['Name'] == chosen_name_2,:].drop(['Name', 'Age'], axis=1).values.flatten().tolist()\n",
    "\n",
    "fig.add_trace(go.Scatterpolar(\n",
    "      r=values_1,\n",
    "      theta=categories,\n",
    "      fill='toself',\n",
    "      name=f\"{chosen_name_1}\"\n",
    "))\n",
    "fig.add_trace(go.Scatterpolar(\n",
    "      r=values_2,\n",
    "      theta=categories,\n",
    "      fill='toself',\n",
    "      name=f\"{chosen_name_2}\"\n",
    "))\n",
    "\n",
    "fig.update_layout(\n",
    "  polar=dict(\n",
    "    radialaxis=dict(\n",
    "      visible=True,\n",
    "      range=[0, 100]\n",
    "    )),\n",
    "  showlegend=True\n",
    ")\n",
    "\n",
    "fig.show()"
   ]
  },
  {
   "cell_type": "code",
   "execution_count": null,
   "metadata": {},
   "outputs": [],
   "source": []
  }
 ]
}